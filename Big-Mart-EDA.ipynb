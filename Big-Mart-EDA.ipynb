{
 "cells": [
  {
   "cell_type": "markdown",
   "id": "dbe3b739",
   "metadata": {},
   "source": [
    "# EXPLORATORY DATA ANALYSIS\n",
    "\n",
    "![sales-prediction](exploratory-explanatory-862x451.png)"
   ]
  },
  {
   "cell_type": "markdown",
   "id": "ed905830",
   "metadata": {},
   "source": [
    "Here, we will be exploring the data to identify trends and outliers. \n",
    "\n",
    "We have some questions that we will be trying to answer , \n",
    "+ like which products were top top sellers. \n",
    "+ Are: Stores located in urban or Tier 1 cities should have higher sales because of the higher income levels of people there.\n",
    "+ Stores located in densely populated areas should have higher sales because of more demand.\n",
    "+ Stores located within popular marketplaces should have higher sales because of better access to customers.\n",
    "+ Established stores often enjoy higher sales compared to newer ones because customers tend to trust and purchase from familiar vendors.\n",
    "+ Products which are given bigger shelves in the store are likely to catch attention first and sell more.\n",
    "+ The location of product in a store will impact sales. Ones which are right at entrance will catch the eye of customer first rather than the ones in back.\n",
    "\n",
    "Remember that the data might not be sufficient to test all of these, but forming these gives us a better understanding of the problem and we can even look for open source information if available.\n",
    "\n",
    "Lets move on to the data exploration where we will have a look at the data in detail.\n",
    "\n",
    "But a big part of exploratory analysis is … well, just exploring, looking to see what happened and what seems noteworthy. "
   ]
  },
  {
   "cell_type": "code",
   "execution_count": 2,
   "id": "9eab6314",
   "metadata": {},
   "outputs": [],
   "source": [
    "import numpy as np\n",
    "import pandas as pd\n",
    "%matplotlib inline\n",
    "import matplotlib.pyplot as plt\n",
    "import seaborn as sns\n",
    "from matplotlib import style\n",
    "style.use('ggplot')\n",
    "import warnings\n",
    "warnings.filterwarnings('ignore')\n",
    "\n",
    "from scipy.stats import mode"
   ]
  },
  {
   "cell_type": "code",
   "execution_count": 1,
   "id": "242a1be2",
   "metadata": {},
   "outputs": [
    {
     "ename": "NameError",
     "evalue": "name 'pd' is not defined",
     "output_type": "error",
     "traceback": [
      "\u001b[1;31m---------------------------------------------------------------------------\u001b[0m",
      "\u001b[1;31mNameError\u001b[0m                                 Traceback (most recent call last)",
      "Cell \u001b[1;32mIn[1], line 2\u001b[0m\n\u001b[0;32m      1\u001b[0m \u001b[38;5;66;03m# load the data (cleaned)\u001b[39;00m\n\u001b[1;32m----> 2\u001b[0m big_mart \u001b[38;5;241m=\u001b[39m \u001b[43mpd\u001b[49m\u001b[38;5;241m.\u001b[39mread_csv(\u001b[38;5;124m'\u001b[39m\u001b[38;5;124mbigmart_cleaned.csv\u001b[39m\u001b[38;5;124m'\u001b[39m)\n",
      "\u001b[1;31mNameError\u001b[0m: name 'pd' is not defined"
     ]
    }
   ],
   "source": [
    "# load the data (cleaned)\n",
    "big_mart = pd.read_csv('bigmart_cleaned.csv')\n",
    "big_mart.head()"
   ]
  },
  {
   "cell_type": "markdown",
   "id": "7a18106f",
   "metadata": {},
   "source": [
    "## Univariate Analysis"
   ]
  },
  {
   "cell_type": "markdown",
   "id": "6ca089d6",
   "metadata": {},
   "source": [
    "### 1. Distribution of Numerical Columns"
   ]
  },
  {
   "cell_type": "code",
   "execution_count": null,
   "id": "b205b25b",
   "metadata": {},
   "outputs": [],
   "source": []
  }
 ],
 "metadata": {
  "kernelspec": {
   "display_name": "Python 3 (ipykernel)",
   "language": "python",
   "name": "python3"
  },
  "language_info": {
   "codemirror_mode": {
    "name": "ipython",
    "version": 3
   },
   "file_extension": ".py",
   "mimetype": "text/x-python",
   "name": "python",
   "nbconvert_exporter": "python",
   "pygments_lexer": "ipython3",
   "version": "3.10.9"
  }
 },
 "nbformat": 4,
 "nbformat_minor": 5
}
