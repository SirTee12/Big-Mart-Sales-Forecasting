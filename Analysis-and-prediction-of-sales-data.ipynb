{
 "cells": [
  {
   "cell_type": "markdown",
   "id": "41872274",
   "metadata": {},
   "source": [
    "# ANALYSIS AND PREDICTION OF SALES DATA\n",
    "![sales-prediction](trend-analysis-sales.jpg)"
   ]
  },
  {
   "cell_type": "markdown",
   "id": "d5e2d239",
   "metadata": {},
   "source": [
    "## INTRODUCTION\n",
    "\n",
    "Sales forecasting plays an important role in business development. Regardless of the size of a business or the number of salespeople, accurate sales forecasting can have a significant impact on all  aspects of sales management, including planning, budgeting, and determining sales. In most densely  populated cities, where the number of stores is growing, sound sales forecasting helps stores develop scientific and effective sales strategies to increase store revenues and reduce unnecessary losses.\n"
   ]
  },
  {
   "cell_type": "markdown",
   "id": "aa63a12e",
   "metadata": {},
   "source": [
    "## Data and Methods\n",
    "\n",
    "The data scientists at Big Mart have collected 2013 sales data for 1559 products across 10 stores in different cities. Also, certain attributes of each product and store have been defined. The aim is to build a predictive model and predict the sales of each product at a particular outlet. Using this model, Big Mart will try to understand the properties of products and outlets which play a key role in increasing sales.\n",
    "\n",
    "Please note that the data may have missing values as some stores might not report all the data due to technical glitches. Hence, it will be required to treat them accordingly.\n",
    "\n",
    "## Content\n",
    "The dataset provides the product details and the outlet information of the products purchased with their sales value split into a train set (8523) and a test (5681) set.\n",
    "Train file: CSV containing the item outlet information with sales value\n",
    "Test file: CSV containing item outlet combinations for which sales need to be forecasted\n",
    "\n",
    "### Variable Description\n",
    "\n",
    "+ ProductID : unique product ID\n",
    "+ Weight : weight of products\n",
    "+ FatContent : specifies whether the product is low on fat or not\n",
    "+ Visibility : percentage of total display area of all products in a store allocated to the particular product\n",
    "+ ProductType : the category to which the product belongs\n",
    "+ MRP : Maximum Retail Price (listed price) of the products\n",
    "+ OutletID : unique store ID\n",
    "+ EstablishmentYear : year of establishment of the outlets\n",
    "+ OutletSize : the size of the store in terms of ground area covered\n",
    "+ LocationType : the type of city in which the store is located\n",
    "+ OutletType : specifies whether the outlet is just a grocery store or some sort of supermarket\n",
    "+ OutletSales : (target variable) sales of the product in the particular store"
   ]
  },
  {
   "cell_type": "code",
   "execution_count": 1,
   "id": "a89b3120",
   "metadata": {},
   "outputs": [],
   "source": [
    "import numpy as np\n",
    "import pandas as pd\n",
    "%matplotlib inline\n",
    "import matplotlib.pyplot as plt\n",
    "from matplotlib import style\n",
    "style.use('ggplot')\n",
    "import warnings\n",
    "warnings.filterwarnings('ignore')\n",
    "\n"
   ]
  },
  {
   "cell_type": "code",
   "execution_count": 9,
   "id": "eb412a47",
   "metadata": {},
   "outputs": [],
   "source": [
    "# create a few fucntion for analysis\n",
    "# create a function for exploring data types, number of NaN and other statistical values\n",
    "def explore(df):\n",
    "    \"\"\"\n",
    "    Function to explore a pandas DataFrame and return a summary table of each column.\n",
    "\n",
    "    Parameters:\n",
    "    -----------\n",
    "    df: pandas DataFrame\n",
    "        The DataFrame to be explored.\n",
    "\n",
    "    Returns:\n",
    "    --------\n",
    "    ret: pandas DataFrame\n",
    "        A summary table of each column containing its type, minimum and maximum values,\n",
    "        percentage of NaN values, number of values, and unique values.\n",
    "    \"\"\"\n",
    "    ret = pd.DataFrame(columns=['Type',\"Nan %\",\n",
    "                                '# Values'])\n",
    "    for col , content in df.items():\n",
    "        values= []\n",
    "        values.append(content.dtype) #look for actual type\n",
    "        values.append(df[col].isnull().sum()/len(df[col]) *100) #% of Nan's\n",
    "        values.append(content.nunique()) #count # of uniques\n",
    "        \n",
    "        ret.loc[col]=values\n",
    "        \n",
    "    return ret"
   ]
  },
  {
   "cell_type": "code",
   "execution_count": 3,
   "id": "9a539ee5",
   "metadata": {},
   "outputs": [],
   "source": [
    "# create a function that sets the caption of a figure\n",
    "def set_fig_caption(fig,fig_number,x=0,y=-0.01,gap=0.05,title=None,caption:str=None,size=8):\n",
    "    \"\"\"\n",
    "    Function to set the caption of a matplotlib figure.\n",
    "\n",
    "    Parameters:\n",
    "    -----------\n",
    "    fig: matplotlib figure\n",
    "        The figure to set the caption for.\n",
    "    fig_number: int\n",
    "        The number of the figure.\n",
    "    x: float, optional\n",
    "        The x position of the caption.\n",
    "    y: float, optional\n",
    "        The y position of the caption.\n",
    "    gap: float, optional\n",
    "        The gap between the title and the caption.\n",
    "    title: str, optional\n",
    "        The title of the figure.\n",
    "    caption: str, optional\n",
    "        The caption of the figure.\n",
    "    size: int, optional\n",
    "        The size of the text.\n",
    "\n",
    "    Returns:\n",
    "    --------\n",
    "    fig: matplotlib figure\n",
    "        The figure with the caption set.\n",
    "    \"\"\"\n",
    "    if not title:\n",
    "        title=''\n",
    "    fig.text(x,y,f'Figure {fig_number}. {title.title()}', # text parameters\n",
    "             weight='bold',size=size+1)\n",
    "    if caption: \n",
    "        for i in np.arange(caption.count('\\n')): y -= 0.02 \n",
    "        fig.text(x,y-gap,caption,color='#474949',\n",
    "                 ma='left',wrap=True,size=size)\n",
    "    return fig"
   ]
  },
  {
   "cell_type": "code",
   "execution_count": 4,
   "id": "d8cbd4a8",
   "metadata": {},
   "outputs": [
    {
     "data": {
      "text/html": [
       "<div>\n",
       "<style scoped>\n",
       "    .dataframe tbody tr th:only-of-type {\n",
       "        vertical-align: middle;\n",
       "    }\n",
       "\n",
       "    .dataframe tbody tr th {\n",
       "        vertical-align: top;\n",
       "    }\n",
       "\n",
       "    .dataframe thead th {\n",
       "        text-align: right;\n",
       "    }\n",
       "</style>\n",
       "<table border=\"1\" class=\"dataframe\">\n",
       "  <thead>\n",
       "    <tr style=\"text-align: right;\">\n",
       "      <th></th>\n",
       "      <th>Item_Identifier</th>\n",
       "      <th>Item_Weight</th>\n",
       "      <th>Item_Fat_Content</th>\n",
       "      <th>Item_Visibility</th>\n",
       "      <th>Item_Type</th>\n",
       "      <th>Item_MRP</th>\n",
       "      <th>Outlet_Identifier</th>\n",
       "      <th>Outlet_Establishment_Year</th>\n",
       "      <th>Outlet_Size</th>\n",
       "      <th>Outlet_Location_Type</th>\n",
       "      <th>Outlet_Type</th>\n",
       "      <th>Item_Outlet_Sales</th>\n",
       "    </tr>\n",
       "  </thead>\n",
       "  <tbody>\n",
       "    <tr>\n",
       "      <th>0</th>\n",
       "      <td>FDA15</td>\n",
       "      <td>9.30</td>\n",
       "      <td>Low Fat</td>\n",
       "      <td>0.016047</td>\n",
       "      <td>Dairy</td>\n",
       "      <td>249.8092</td>\n",
       "      <td>OUT049</td>\n",
       "      <td>1999</td>\n",
       "      <td>Medium</td>\n",
       "      <td>Tier 1</td>\n",
       "      <td>Supermarket Type1</td>\n",
       "      <td>3735.1380</td>\n",
       "    </tr>\n",
       "    <tr>\n",
       "      <th>1</th>\n",
       "      <td>DRC01</td>\n",
       "      <td>5.92</td>\n",
       "      <td>Regular</td>\n",
       "      <td>0.019278</td>\n",
       "      <td>Soft Drinks</td>\n",
       "      <td>48.2692</td>\n",
       "      <td>OUT018</td>\n",
       "      <td>2009</td>\n",
       "      <td>Medium</td>\n",
       "      <td>Tier 3</td>\n",
       "      <td>Supermarket Type2</td>\n",
       "      <td>443.4228</td>\n",
       "    </tr>\n",
       "    <tr>\n",
       "      <th>2</th>\n",
       "      <td>FDN15</td>\n",
       "      <td>17.50</td>\n",
       "      <td>Low Fat</td>\n",
       "      <td>0.016760</td>\n",
       "      <td>Meat</td>\n",
       "      <td>141.6180</td>\n",
       "      <td>OUT049</td>\n",
       "      <td>1999</td>\n",
       "      <td>Medium</td>\n",
       "      <td>Tier 1</td>\n",
       "      <td>Supermarket Type1</td>\n",
       "      <td>2097.2700</td>\n",
       "    </tr>\n",
       "    <tr>\n",
       "      <th>3</th>\n",
       "      <td>FDX07</td>\n",
       "      <td>19.20</td>\n",
       "      <td>Regular</td>\n",
       "      <td>0.000000</td>\n",
       "      <td>Fruits and Vegetables</td>\n",
       "      <td>182.0950</td>\n",
       "      <td>OUT010</td>\n",
       "      <td>1998</td>\n",
       "      <td>NaN</td>\n",
       "      <td>Tier 3</td>\n",
       "      <td>Grocery Store</td>\n",
       "      <td>732.3800</td>\n",
       "    </tr>\n",
       "    <tr>\n",
       "      <th>4</th>\n",
       "      <td>NCD19</td>\n",
       "      <td>8.93</td>\n",
       "      <td>Low Fat</td>\n",
       "      <td>0.000000</td>\n",
       "      <td>Household</td>\n",
       "      <td>53.8614</td>\n",
       "      <td>OUT013</td>\n",
       "      <td>1987</td>\n",
       "      <td>High</td>\n",
       "      <td>Tier 3</td>\n",
       "      <td>Supermarket Type1</td>\n",
       "      <td>994.7052</td>\n",
       "    </tr>\n",
       "  </tbody>\n",
       "</table>\n",
       "</div>"
      ],
      "text/plain": [
       "  Item_Identifier  Item_Weight Item_Fat_Content  Item_Visibility  \\\n",
       "0           FDA15         9.30          Low Fat         0.016047   \n",
       "1           DRC01         5.92          Regular         0.019278   \n",
       "2           FDN15        17.50          Low Fat         0.016760   \n",
       "3           FDX07        19.20          Regular         0.000000   \n",
       "4           NCD19         8.93          Low Fat         0.000000   \n",
       "\n",
       "               Item_Type  Item_MRP Outlet_Identifier  \\\n",
       "0                  Dairy  249.8092            OUT049   \n",
       "1            Soft Drinks   48.2692            OUT018   \n",
       "2                   Meat  141.6180            OUT049   \n",
       "3  Fruits and Vegetables  182.0950            OUT010   \n",
       "4              Household   53.8614            OUT013   \n",
       "\n",
       "   Outlet_Establishment_Year Outlet_Size Outlet_Location_Type  \\\n",
       "0                       1999      Medium               Tier 1   \n",
       "1                       2009      Medium               Tier 3   \n",
       "2                       1999      Medium               Tier 1   \n",
       "3                       1998         NaN               Tier 3   \n",
       "4                       1987        High               Tier 3   \n",
       "\n",
       "         Outlet_Type  Item_Outlet_Sales  \n",
       "0  Supermarket Type1          3735.1380  \n",
       "1  Supermarket Type2           443.4228  \n",
       "2  Supermarket Type1          2097.2700  \n",
       "3      Grocery Store           732.3800  \n",
       "4  Supermarket Type1           994.7052  "
      ]
     },
     "execution_count": 4,
     "metadata": {},
     "output_type": "execute_result"
    }
   ],
   "source": [
    "# read the data and print out the first few rows \n",
    "bigdata = pd.read_csv('BigMart Sales Data.csv')\n",
    "\n",
    "# make a copy of the data\n",
    "bigmart = bigdata.copy()\n",
    "bigmart.head()"
   ]
  },
  {
   "cell_type": "code",
   "execution_count": null,
   "id": "acbd2ce4",
   "metadata": {},
   "outputs": [],
   "source": []
  },
  {
   "cell_type": "markdown",
   "id": "18d8c429",
   "metadata": {},
   "source": [
    "## DATA CLEANING\n"
   ]
  },
  {
   "cell_type": "markdown",
   "id": "f21f8533",
   "metadata": {},
   "source": [
    "The data has 12 columns with 8523 entries. The following could be deducted form the initial exploration\n",
    "+ All the columns have no missing values except the **Item_Weight* and **Outlet_Size** columns both having 17.16% and 28.27% of their values missing respectively. \n",
    "+ The store sells 1559 unique items or products. This is too many to be useful, we need to see how we can categorise them into a smaller number of groups \n",
    "+ in the Item_Fat_Content column, there appears to be inconsistencies in the data as **Low Fat** is also represented as *LF* or **low fat** in some rows. We can also see **Regular** being represented as **reg** in some rows. We will use **Low Fat** and **Regular** as replacement for these to ensure data quality.\n",
    "+ The min value of Item_Visibility is 0, but this can not be as every item must have some visibility.\n",
    "+ There are only 16 Item_Type.\n",
    "+ There are 10 stores."
   ]
  },
  {
   "cell_type": "code",
   "execution_count": 14,
   "id": "0b2daeab",
   "metadata": {},
   "outputs": [
    {
     "name": "stdout",
     "output_type": "stream",
     "text": [
      "<class 'pandas.core.frame.DataFrame'>\n",
      "RangeIndex: 8523 entries, 0 to 8522\n",
      "Data columns (total 12 columns):\n",
      " #   Column                     Non-Null Count  Dtype  \n",
      "---  ------                     --------------  -----  \n",
      " 0   Item_Identifier            8523 non-null   object \n",
      " 1   Item_Weight                7060 non-null   float64\n",
      " 2   Item_Fat_Content           8523 non-null   object \n",
      " 3   Item_Visibility            8523 non-null   float64\n",
      " 4   Item_Type                  8523 non-null   object \n",
      " 5   Item_MRP                   8523 non-null   float64\n",
      " 6   Outlet_Identifier          8523 non-null   object \n",
      " 7   Outlet_Establishment_Year  8523 non-null   int64  \n",
      " 8   Outlet_Size                6113 non-null   object \n",
      " 9   Outlet_Location_Type       8523 non-null   object \n",
      " 10  Outlet_Type                8523 non-null   object \n",
      " 11  Item_Outlet_Sales          8523 non-null   float64\n",
      "dtypes: float64(4), int64(1), object(7)\n",
      "memory usage: 799.2+ KB\n"
     ]
    }
   ],
   "source": [
    "bigmart.info()\n"
   ]
  },
  {
   "cell_type": "code",
   "execution_count": 10,
   "id": "2f6893e8",
   "metadata": {},
   "outputs": [
    {
     "data": {
      "text/html": [
       "<div>\n",
       "<style scoped>\n",
       "    .dataframe tbody tr th:only-of-type {\n",
       "        vertical-align: middle;\n",
       "    }\n",
       "\n",
       "    .dataframe tbody tr th {\n",
       "        vertical-align: top;\n",
       "    }\n",
       "\n",
       "    .dataframe thead th {\n",
       "        text-align: right;\n",
       "    }\n",
       "</style>\n",
       "<table border=\"1\" class=\"dataframe\">\n",
       "  <thead>\n",
       "    <tr style=\"text-align: right;\">\n",
       "      <th></th>\n",
       "      <th>Type</th>\n",
       "      <th>Nan %</th>\n",
       "      <th># Values</th>\n",
       "    </tr>\n",
       "  </thead>\n",
       "  <tbody>\n",
       "    <tr>\n",
       "      <th>Item_Identifier</th>\n",
       "      <td>object</td>\n",
       "      <td>0.000000</td>\n",
       "      <td>1559</td>\n",
       "    </tr>\n",
       "    <tr>\n",
       "      <th>Item_Weight</th>\n",
       "      <td>float64</td>\n",
       "      <td>17.165317</td>\n",
       "      <td>415</td>\n",
       "    </tr>\n",
       "    <tr>\n",
       "      <th>Item_Fat_Content</th>\n",
       "      <td>object</td>\n",
       "      <td>0.000000</td>\n",
       "      <td>5</td>\n",
       "    </tr>\n",
       "    <tr>\n",
       "      <th>Item_Visibility</th>\n",
       "      <td>float64</td>\n",
       "      <td>0.000000</td>\n",
       "      <td>7880</td>\n",
       "    </tr>\n",
       "    <tr>\n",
       "      <th>Item_Type</th>\n",
       "      <td>object</td>\n",
       "      <td>0.000000</td>\n",
       "      <td>16</td>\n",
       "    </tr>\n",
       "    <tr>\n",
       "      <th>Item_MRP</th>\n",
       "      <td>float64</td>\n",
       "      <td>0.000000</td>\n",
       "      <td>5938</td>\n",
       "    </tr>\n",
       "    <tr>\n",
       "      <th>Outlet_Identifier</th>\n",
       "      <td>object</td>\n",
       "      <td>0.000000</td>\n",
       "      <td>10</td>\n",
       "    </tr>\n",
       "    <tr>\n",
       "      <th>Outlet_Establishment_Year</th>\n",
       "      <td>int64</td>\n",
       "      <td>0.000000</td>\n",
       "      <td>9</td>\n",
       "    </tr>\n",
       "    <tr>\n",
       "      <th>Outlet_Size</th>\n",
       "      <td>object</td>\n",
       "      <td>28.276428</td>\n",
       "      <td>3</td>\n",
       "    </tr>\n",
       "    <tr>\n",
       "      <th>Outlet_Location_Type</th>\n",
       "      <td>object</td>\n",
       "      <td>0.000000</td>\n",
       "      <td>3</td>\n",
       "    </tr>\n",
       "    <tr>\n",
       "      <th>Outlet_Type</th>\n",
       "      <td>object</td>\n",
       "      <td>0.000000</td>\n",
       "      <td>4</td>\n",
       "    </tr>\n",
       "    <tr>\n",
       "      <th>Item_Outlet_Sales</th>\n",
       "      <td>float64</td>\n",
       "      <td>0.000000</td>\n",
       "      <td>3493</td>\n",
       "    </tr>\n",
       "  </tbody>\n",
       "</table>\n",
       "</div>"
      ],
      "text/plain": [
       "                              Type      Nan %  # Values\n",
       "Item_Identifier             object   0.000000      1559\n",
       "Item_Weight                float64  17.165317       415\n",
       "Item_Fat_Content            object   0.000000         5\n",
       "Item_Visibility            float64   0.000000      7880\n",
       "Item_Type                   object   0.000000        16\n",
       "Item_MRP                   float64   0.000000      5938\n",
       "Outlet_Identifier           object   0.000000        10\n",
       "Outlet_Establishment_Year    int64   0.000000         9\n",
       "Outlet_Size                 object  28.276428         3\n",
       "Outlet_Location_Type        object   0.000000         3\n",
       "Outlet_Type                 object   0.000000         4\n",
       "Item_Outlet_Sales          float64   0.000000      3493"
      ]
     },
     "execution_count": 10,
     "metadata": {},
     "output_type": "execute_result"
    }
   ],
   "source": [
    "# check for missing vlaues and data type\n",
    "explore(bigmart)"
   ]
  },
  {
   "cell_type": "code",
   "execution_count": 12,
   "id": "875b8ca6",
   "metadata": {},
   "outputs": [
    {
     "data": {
      "text/html": [
       "<div>\n",
       "<style scoped>\n",
       "    .dataframe tbody tr th:only-of-type {\n",
       "        vertical-align: middle;\n",
       "    }\n",
       "\n",
       "    .dataframe tbody tr th {\n",
       "        vertical-align: top;\n",
       "    }\n",
       "\n",
       "    .dataframe thead th {\n",
       "        text-align: right;\n",
       "    }\n",
       "</style>\n",
       "<table border=\"1\" class=\"dataframe\">\n",
       "  <thead>\n",
       "    <tr style=\"text-align: right;\">\n",
       "      <th></th>\n",
       "      <th>Item_Weight</th>\n",
       "      <th>Item_Visibility</th>\n",
       "      <th>Item_MRP</th>\n",
       "      <th>Outlet_Establishment_Year</th>\n",
       "      <th>Item_Outlet_Sales</th>\n",
       "    </tr>\n",
       "  </thead>\n",
       "  <tbody>\n",
       "    <tr>\n",
       "      <th>count</th>\n",
       "      <td>7060.000000</td>\n",
       "      <td>8523.000000</td>\n",
       "      <td>8523.000000</td>\n",
       "      <td>8523.000000</td>\n",
       "      <td>8523.000000</td>\n",
       "    </tr>\n",
       "    <tr>\n",
       "      <th>mean</th>\n",
       "      <td>12.857645</td>\n",
       "      <td>0.066132</td>\n",
       "      <td>140.992782</td>\n",
       "      <td>1997.831867</td>\n",
       "      <td>2181.288914</td>\n",
       "    </tr>\n",
       "    <tr>\n",
       "      <th>std</th>\n",
       "      <td>4.643456</td>\n",
       "      <td>0.051598</td>\n",
       "      <td>62.275067</td>\n",
       "      <td>8.371760</td>\n",
       "      <td>1706.499616</td>\n",
       "    </tr>\n",
       "    <tr>\n",
       "      <th>min</th>\n",
       "      <td>4.555000</td>\n",
       "      <td>0.000000</td>\n",
       "      <td>31.290000</td>\n",
       "      <td>1985.000000</td>\n",
       "      <td>33.290000</td>\n",
       "    </tr>\n",
       "    <tr>\n",
       "      <th>25%</th>\n",
       "      <td>8.773750</td>\n",
       "      <td>0.026989</td>\n",
       "      <td>93.826500</td>\n",
       "      <td>1987.000000</td>\n",
       "      <td>834.247400</td>\n",
       "    </tr>\n",
       "    <tr>\n",
       "      <th>50%</th>\n",
       "      <td>12.600000</td>\n",
       "      <td>0.053931</td>\n",
       "      <td>143.012800</td>\n",
       "      <td>1999.000000</td>\n",
       "      <td>1794.331000</td>\n",
       "    </tr>\n",
       "    <tr>\n",
       "      <th>75%</th>\n",
       "      <td>16.850000</td>\n",
       "      <td>0.094585</td>\n",
       "      <td>185.643700</td>\n",
       "      <td>2004.000000</td>\n",
       "      <td>3101.296400</td>\n",
       "    </tr>\n",
       "    <tr>\n",
       "      <th>max</th>\n",
       "      <td>21.350000</td>\n",
       "      <td>0.328391</td>\n",
       "      <td>266.888400</td>\n",
       "      <td>2009.000000</td>\n",
       "      <td>13086.964800</td>\n",
       "    </tr>\n",
       "  </tbody>\n",
       "</table>\n",
       "</div>"
      ],
      "text/plain": [
       "       Item_Weight  Item_Visibility     Item_MRP  Outlet_Establishment_Year  \\\n",
       "count  7060.000000      8523.000000  8523.000000                8523.000000   \n",
       "mean     12.857645         0.066132   140.992782                1997.831867   \n",
       "std       4.643456         0.051598    62.275067                   8.371760   \n",
       "min       4.555000         0.000000    31.290000                1985.000000   \n",
       "25%       8.773750         0.026989    93.826500                1987.000000   \n",
       "50%      12.600000         0.053931   143.012800                1999.000000   \n",
       "75%      16.850000         0.094585   185.643700                2004.000000   \n",
       "max      21.350000         0.328391   266.888400                2009.000000   \n",
       "\n",
       "       Item_Outlet_Sales  \n",
       "count        8523.000000  \n",
       "mean         2181.288914  \n",
       "std          1706.499616  \n",
       "min            33.290000  \n",
       "25%           834.247400  \n",
       "50%          1794.331000  \n",
       "75%          3101.296400  \n",
       "max         13086.964800  "
      ]
     },
     "execution_count": 12,
     "metadata": {},
     "output_type": "execute_result"
    }
   ],
   "source": [
    "# check the summary statistics of the data\n",
    "bigmart.describe()"
   ]
  },
  {
   "cell_type": "code",
   "execution_count": 13,
   "id": "cbca502b",
   "metadata": {},
   "outputs": [
    {
     "data": {
      "text/plain": [
       "array(['Low Fat', 'Regular', 'low fat', 'LF', 'reg'], dtype=object)"
      ]
     },
     "execution_count": 13,
     "metadata": {},
     "output_type": "execute_result"
    }
   ],
   "source": [
    "# lets check check unique value of tha caegorical columns\n",
    "# to see if there are inconsistencies\n",
    "bigmart.Item_Fat_Content.unique()"
   ]
  },
  {
   "cell_type": "markdown",
   "id": "b31f9b0a",
   "metadata": {},
   "source": [
    "Further Observations include:\n",
    "+ Stores with Outlet_Identifier OUT010 and OUT019 have significantly smaller number of sales."
   ]
  },
  {
   "cell_type": "code",
   "execution_count": 16,
   "id": "c1d9915b",
   "metadata": {},
   "outputs": [
    {
     "name": "stdout",
     "output_type": "stream",
     "text": [
      "\n",
      "Frequency of Categories for Item_Identifier\n",
      "FDW13    10\n",
      "FDG33    10\n",
      "NCY18     9\n",
      "FDD38     9\n",
      "DRE49     9\n",
      "         ..\n",
      "FDY43     1\n",
      "FDQ60     1\n",
      "FDO33     1\n",
      "DRF48     1\n",
      "FDC23     1\n",
      "Name: Item_Identifier, Length: 1559, dtype: int64\n",
      "\n",
      "Frequency of Categories for Item_Fat_Content\n",
      "Low Fat    5089\n",
      "Regular    2889\n",
      "LF          316\n",
      "reg         117\n",
      "low fat     112\n",
      "Name: Item_Fat_Content, dtype: int64\n",
      "\n",
      "Frequency of Categories for Item_Type\n",
      "Fruits and Vegetables    1232\n",
      "Snack Foods              1200\n",
      "Household                 910\n",
      "Frozen Foods              856\n",
      "Dairy                     682\n",
      "Canned                    649\n",
      "Baking Goods              648\n",
      "Health and Hygiene        520\n",
      "Soft Drinks               445\n",
      "Meat                      425\n",
      "Breads                    251\n",
      "Hard Drinks               214\n",
      "Others                    169\n",
      "Starchy Foods             148\n",
      "Breakfast                 110\n",
      "Seafood                    64\n",
      "Name: Item_Type, dtype: int64\n",
      "\n",
      "Frequency of Categories for Outlet_Identifier\n",
      "OUT027    935\n",
      "OUT013    932\n",
      "OUT049    930\n",
      "OUT046    930\n",
      "OUT035    930\n",
      "OUT045    929\n",
      "OUT018    928\n",
      "OUT017    926\n",
      "OUT010    555\n",
      "OUT019    528\n",
      "Name: Outlet_Identifier, dtype: int64\n",
      "\n",
      "Frequency of Categories for Outlet_Size\n",
      "Medium    2793\n",
      "Small     2388\n",
      "High       932\n",
      "Name: Outlet_Size, dtype: int64\n",
      "\n",
      "Frequency of Categories for Outlet_Location_Type\n",
      "Tier 3    3350\n",
      "Tier 2    2785\n",
      "Tier 1    2388\n",
      "Name: Outlet_Location_Type, dtype: int64\n",
      "\n",
      "Frequency of Categories for Outlet_Type\n",
      "Supermarket Type1    5577\n",
      "Grocery Store        1083\n",
      "Supermarket Type3     935\n",
      "Supermarket Type2     928\n",
      "Name: Outlet_Type, dtype: int64\n"
     ]
    }
   ],
   "source": [
    "# check the frequncy of each dfferent category in each nominal value\n",
    "# filtert  the categorical variables\n",
    "\n",
    "cat_columns = [x for x in bigmart.dtypes.index if bigmart.dtypes[x] == 'object']\n",
    "\n",
    "# exclude the Item_Identifier column\n",
    "cat_columns = [x for x in cat_columns if x != 'Item_identifier']\n",
    "\n",
    "# print frequencies of categories\n",
    "for col in cat_columns:\n",
    "    print('\\nFrequency of Categories for {}'.format(col))\n",
    "    print(bigmart[col].value_counts())"
   ]
  },
  {
   "cell_type": "markdown",
   "id": "d2a87d72",
   "metadata": {},
   "source": [
    "### Imputing Missing Values\n"
   ]
  },
  {
   "cell_type": "markdown",
   "id": "851abbb9",
   "metadata": {},
   "source": [
    "**Item_Weight**\n",
    "\n",
    "Assuming each Item_Identifier identifies a specific item, then it seems reasonable to impute the missing values of the Item_Weight by the average Item_Weight of each Item_Identifier.\n",
    "\n",
    "To check that we have imputed the values in a reasonable way, we can check the average weight per Outlet_Identifier before and after imputing the missing values.\n",
    "\n",
    "The graph below shows that the missing weights affects two outlets (**OUT019** and **OUT027**). It can be seen that each outlet has almost the same average values and distribution"
   ]
  },
  {
   "cell_type": "code",
   "execution_count": 18,
   "id": "c48e8424",
   "metadata": {},
   "outputs": [
    {
     "data": {
      "text/plain": [
       "<Axes: title={'center': 'Item_Weight'}, xlabel='Outlet_Identifier'>"
      ]
     },
     "execution_count": 18,
     "metadata": {},
     "output_type": "execute_result"
    },
    {
     "data": {
      "image/png": "[encoded data removed]",
      "text/plain": [
       "<Figure size 640x480 with 1 Axes>"
      ]
     },
     "metadata": {},
     "output_type": "display_data"
    }
   ],
   "source": [
    "bigmart.boxplot(column = 'Item_Weight', by = 'Outlet_Identifier',\n",
    "            rot = 60)"
   ]
  },
  {
   "cell_type": "code",
   "execution_count": 20,
   "id": "f1ea5601",
   "metadata": {},
   "outputs": [
    {
     "data": {
      "text/html": [
       "<div>\n",
       "<style scoped>\n",
       "    .dataframe tbody tr th:only-of-type {\n",
       "        vertical-align: middle;\n",
       "    }\n",
       "\n",
       "    .dataframe tbody tr th {\n",
       "        vertical-align: top;\n",
       "    }\n",
       "\n",
       "    .dataframe thead th {\n",
       "        text-align: right;\n",
       "    }\n",
       "</style>\n",
       "<table border=\"1\" class=\"dataframe\">\n",
       "  <thead>\n",
       "    <tr style=\"text-align: right;\">\n",
       "      <th></th>\n",
       "      <th>Item_Weight</th>\n",
       "    </tr>\n",
       "    <tr>\n",
       "      <th>Item_Identifier</th>\n",
       "      <th></th>\n",
       "    </tr>\n",
       "  </thead>\n",
       "  <tbody>\n",
       "    <tr>\n",
       "      <th>DRA12</th>\n",
       "      <td>11.600</td>\n",
       "    </tr>\n",
       "    <tr>\n",
       "      <th>DRA24</th>\n",
       "      <td>19.350</td>\n",
       "    </tr>\n",
       "    <tr>\n",
       "      <th>DRA59</th>\n",
       "      <td>8.270</td>\n",
       "    </tr>\n",
       "    <tr>\n",
       "      <th>DRB01</th>\n",
       "      <td>7.390</td>\n",
       "    </tr>\n",
       "    <tr>\n",
       "      <th>DRB13</th>\n",
       "      <td>6.115</td>\n",
       "    </tr>\n",
       "  </tbody>\n",
       "</table>\n",
       "</div>"
      ],
      "text/plain": [
       "                 Item_Weight\n",
       "Item_Identifier             \n",
       "DRA12                 11.600\n",
       "DRA24                 19.350\n",
       "DRA59                  8.270\n",
       "DRB01                  7.390\n",
       "DRB13                  6.115"
      ]
     },
     "execution_count": 20,
     "metadata": {},
     "output_type": "execute_result"
    }
   ],
   "source": [
    "# let get the average weigth per item\n",
    "item_avg_weight = bigmart.pivot_table(values = 'Item_Weight', index = 'Item_Identifier')\n",
    "item_avg_weight.head()"
   ]
  },
  {
   "cell_type": "code",
   "execution_count": 24,
   "id": "fb247143",
   "metadata": {},
   "outputs": [],
   "source": [
    "# create a dictionary by group the item weight based on the \n",
    "# sub group Item_Identifier\n",
    "weight_dict = bigmart.groupby(\"Item_Identifier\")[\"Item_Weight\"].mean().to_dict()\n",
    "#print(weight_dict)\n",
    "\n",
    "# impute the salaries by the sub group \n",
    "bigmart[\"Item_Weight\"] = bigmart[\"Item_Weight\"].fillna(bigmart[\"Item_Identifier\"].map(weight_dict))"
   ]
  },
  {
   "cell_type": "markdown",
   "id": "f796be24",
   "metadata": {},
   "source": [
    "And now we can see that the values we have chosen to replace the missing weights are reasonable as the boxplot of the affected outlets now follows the same pattern as the others."
   ]
  },
  {
   "cell_type": "code",
   "execution_count": 34,
   "id": "b490dadd",
   "metadata": {},
   "outputs": [
    {
     "data": {
      "text/plain": [
       "Text(0.5, 1.0, 'Weights of Items grouped based on the Outlet')"
      ]
     },
     "execution_count": 34,
     "metadata": {},
     "output_type": "execute_result"
    },
    {
     "data": {
      "text/plain": [
       "<Figure size 2000x1200 with 0 Axes>"
      ]
     },
     "metadata": {},
     "output_type": "display_data"
    },
    {
     "data": {
      "image/png": "[encoded data removed]",
      "text/plain": [
       "<Figure size 640x480 with 1 Axes>"
      ]
     },
     "metadata": {},
     "output_type": "display_data"
    }
   ],
   "source": [
    "# let's verify\n",
    "# set fig parameters\n",
    "plt.figure(figsize=(20,12))\n",
    "\n",
    "# create a box plot to see the change\n",
    "\n",
    "ax = bigmart.boxplot(column='Item_Weight', by='Outlet_Identifier', rot=60)\n",
    "ax.set_ylabel('Weight of Items') # set y label\n",
    "ax.set_xlabel('Outlet Identifier')\n",
    "ax.set_title('Weights of Items grouped based on the Outlet')"
   ]
  },
  {
   "cell_type": "markdown",
   "id": "a6cefa93",
   "metadata": {},
   "source": [
    "**Outlet Size**"
   ]
  },
  {
   "cell_type": "code",
   "execution_count": 38,
   "id": "5b2b80ae",
   "metadata": {},
   "outputs": [
    {
     "ename": "SyntaxError",
     "evalue": "invalid syntax (3549032869.py, line 1)",
     "output_type": "error",
     "traceback": [
      "\u001b[1;36m  Cell \u001b[1;32mIn[38], line 1\u001b[1;36m\u001b[0m\n\u001b[1;33m    Itcould be reasonable to impute the missing values of Outlet_size by the mode size for each Outlet_Type. Let have a look at the mode size for each Outlet_Type.\u001b[0m\n\u001b[1;37m            ^\u001b[0m\n\u001b[1;31mSyntaxError\u001b[0m\u001b[1;31m:\u001b[0m invalid syntax\n"
     ]
    }
   ],
   "source": [
    "It could be reasonable to impute the missing values of Outlet_size by the mode size for each Outlet_Type. Let have a look at the mode size for each Outlet_Type."
   ]
  },
  {
   "cell_type": "code",
   "execution_count": null,
   "id": "d0a68578",
   "metadata": {},
   "outputs": [],
   "source": []
  }
 ],
 "metadata": {
  "kernelspec": {
   "display_name": "Python 3 (ipykernel)",
   "language": "python",
   "name": "python3"
  },
  "language_info": {
   "codemirror_mode": {
    "name": "ipython",
    "version": 3
   },
   "file_extension": ".py",
   "mimetype": "text/x-python",
   "name": "python",
   "nbconvert_exporter": "python",
   "pygments_lexer": "ipython3",
   "version": "3.10.9"
  }
 },
 "nbformat": 4,
 "nbformat_minor": 5
}
