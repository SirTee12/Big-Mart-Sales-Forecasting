{
 "cells": [
  {
   "cell_type": "markdown",
   "id": "41872274",
   "metadata": {},
   "source": [
    "# ANALYSIS AND PREDICTION OF SALES DATA\n",
    "![sales-prediction](trend-analysis-sales.jpg)"
   ]
  },
  {
   "cell_type": "markdown",
   "id": "d5e2d239",
   "metadata": {},
   "source": [
    "## INTRODUCTION\n",
    "\n",
    "Sales forecasting plays an important role in business development. Regardless of the size of a business or the number of salespeople, accurate sales forecasting can have a significant impact on all  aspects of sales management, including planning, budgeting, and determining sales. In most densely  populated cities, where the number of stores is growing, sound sales forecasting helps stores develop scientific and effective sales strategies to increase store revenues and reduce unnecessary losses.\n"
   ]
  },
  {
   "cell_type": "markdown",
   "id": "aa63a12e",
   "metadata": {},
   "source": [
    "## Data and Methods\n",
    "\n",
    "The data scientists at Big Mart have collected 2013 sales data for 1559 products across 10 stores in different cities. Also, certain attributes of each product and store have been defined. The aim is to build a predictive model and predict the sales of each product at a particular outlet. Using this model, Big Mart will try to understand the properties of products and outlets which play a key role in increasing sales.\n",
    "\n",
    "Please note that the data may have missing values as some stores might not report all the data due to technical glitches. Hence, it will be required to treat them accordingly.\n",
    "\n",
    "## Content\n",
    "The dataset provides the product details and the outlet information of the products purchased with their sales value split into a train set (8523) and a test (5681) set.\n",
    "Train file: CSV containing the item outlet information with sales value\n",
    "Test file: CSV containing item outlet combinations for which sales need to be forecasted\n",
    "\n",
    "### Variable Description\n",
    "| Item_Identifier | Unique product ID |\n",
    "| -------- | ---------- |\n",
    "| Item_Weight| Weight of product | \n",
    "| Item_Fat_Content| Whether the product is low fat or not |\n",
    "| Item_Visibility | The % of total display area of all products in a store allocated to the particular product |\n",
    "| Item_Type | The category to which the product belongs |\n",
    "| Item_MRP | Maximum Retail Price (list price) of the product\n",
    "| Outlet_Identifier | Unique store ID |\n",
    "| Outlet_Establishment_Year | The year in which store was established |\n",
    "| Outlet_Size | The size of the store in terms of ground area covered |\n",
    "| Outlet_Location_Type | The type of city in which the store is located |\n",
    "| Outlet_Type | Whether the outlet is just a grocery store or some sort of supermarket |\n",
    "| Item_Outlet_Sales | Sales of the product in the particulat store. This is the outcome variable to be predicted. |"
   ]
  },
  {
   "cell_type": "markdown",
   "id": "508340ce",
   "metadata": {},
   "source": [
    "### Hypothesis\n",
    "**Store Level Hypotheses**:\n",
    "\n",
    "+ City type: Stores located in urban or Tier 1 cities should have higher sales because of the higher income levels of people there.\n",
    "+ Population Density: Stores located in densely populated areas should have higher sales because of more demand.\n",
    "+ Store Capacity: Stores which are very big in size should have higher sales as they act like one-stop-shops and people would prefer getting everything from one place\n",
    "+ Competitors: Stores having similar establishments nearby should have less sales because of more competition.\n",
    "+ Marketing: Stores which have a good marketing division should have higher sales as it will be able to attract customers through the right offers and advertising.\n",
    "+ Location: Stores located within popular marketplaces should have higher sales because of better access to customers.\n",
    "+ Customer Behavior: Stores keeping the right set of products to meet the local needs of customers will have higher sales.\n",
    "+ Ambiance: Stores which are well-maintained and managed by polite and humble people are expected to have higher footfall and thus higher sales.\n",
    "+ Longevity: Established stores often enjoy higher sales compared to newer ones because customers tend to trust and purchase from familiar vendors.\n",
    "\n",
    "**Product Level Hypotheses**:\n",
    "\n",
    "+ Brand: Branded products should have higher sales because of higher trust in the customer.\n",
    "+ Packaging: Products with good packaging can attract customers and sell more.\n",
    "+ Utility: Daily use products should have a higher tendency to sell as compared to the specific use products.\n",
    "+ Display Area: Products which are given bigger shelves in the store are likely to catch attention first and sell more.\n",
    "+ Visibility in Store: The location of product in a store will impact sales. Ones which are right at entrance will catch the eye of customer first rather than the ones in back.\n",
    "+ Advertising: Better advertising of products in the store will should higher sales in most cases.\n",
    "+ Promotional Offers: Products accompanied with attractive offers and discounts will sell more.\n",
    "\n",
    "Remember that the data might not be sufficient to test all of these, but forming these gives us a better understanding of the problem and we can even look for open source information if available.\n",
    "\n",
    "Lets move on to the data exploration where we will have a look at the data in detail."
   ]
  },
  {
   "cell_type": "code",
   "execution_count": 2,
   "id": "a89b3120",
   "metadata": {},
   "outputs": [],
   "source": [
    "import numpy as np\n",
    "import pandas as pd\n",
    "%matplotlib inline\n",
    "import matplotlib.pyplot as plt\n",
    "import seaborn as sns\n",
    "from matplotlib import style\n",
    "style.use('ggplot')\n",
    "import warnings\n",
    "warnings.filterwarnings('ignore')\n",
    "\n",
    "from scipy.stats import mode"
   ]
  },
  {
   "cell_type": "code",
   "execution_count": 3,
   "id": "eb412a47",
   "metadata": {},
   "outputs": [],
   "source": [
    "# create a few fucntion for analysis\n",
    "# create a function for exploring data types, number of NaN and other statistical values\n",
    "def explore(df):\n",
    "    \"\"\"\n",
    "    Function to explore a pandas DataFrame and return a summary table of each column.\n",
    "\n",
    "    Parameters:\n",
    "    -----------\n",
    "    df: pandas DataFrame\n",
    "        The DataFrame to be explored.\n",
    "\n",
    "    Returns:\n",
    "    --------\n",
    "    ret: pandas DataFrame\n",
    "        A summary table of each column containing its type, minimum and maximum values,\n",
    "        percentage of NaN values, number of values, and unique values.\n",
    "    \"\"\"\n",
    "    ret = pd.DataFrame(columns=['Type',\"Nan %\",\n",
    "                                '# Values'])\n",
    "    for col , content in df.items():\n",
    "        values= []\n",
    "        values.append(content.dtype) #look for actual type\n",
    "        values.append(df[col].isnull().sum()/len(df[col]) *100) #% of Nan's\n",
    "        values.append(content.nunique()) #count # of uniques\n",
    "        \n",
    "        ret.loc[col]=values\n",
    "        \n",
    "    return ret"
   ]
  },
  {
   "cell_type": "code",
   "execution_count": 4,
   "id": "9a539ee5",
   "metadata": {},
   "outputs": [],
   "source": [
    "# create a function that sets the caption of a figure\n",
    "def set_fig_caption(fig,fig_number,x=0,y=-0.01,gap=0.05,title=None,caption:str=None,size=8):\n",
    "    \"\"\"\n",
    "    Function to set the caption of a matplotlib figure.\n",
    "\n",
    "    Parameters:\n",
    "    -----------\n",
    "    fig: matplotlib figure\n",
    "        The figure to set the caption for.\n",
    "    fig_number: int\n",
    "        The number of the figure.\n",
    "    x: float, optional\n",
    "        The x position of the caption.\n",
    "    y: float, optional\n",
    "        The y position of the caption.\n",
    "    gap: float, optional\n",
    "        The gap between the title and the caption.\n",
    "    title: str, optional\n",
    "        The title of the figure.\n",
    "    caption: str, optional\n",
    "        The caption of the figure.\n",
    "    size: int, optional\n",
    "        The size of the text.\n",
    "\n",
    "    Returns:\n",
    "    --------\n",
    "    fig: matplotlib figure\n",
    "        The figure with the caption set.\n",
    "    \"\"\"\n",
    "    if not title:\n",
    "        title=''\n",
    "    fig.text(x,y,f'Figure {fig_number}. {title.title()}', # text parameters\n",
    "             weight='bold',size=size+1)\n",
    "    if caption: \n",
    "        for i in np.arange(caption.count('\\n')): y -= 0.02 \n",
    "        fig.text(x,y-gap,caption,color='#474949',\n",
    "                 ma='left',wrap=True,size=size)\n",
    "    return fig"
   ]
  },
  {
   "cell_type": "code",
   "execution_count": 5,
   "id": "d8cbd4a8",
   "metadata": {},
   "outputs": [
    {
     "data": {
      "text/html": [
       "<div>\n",
       "<style scoped>\n",
       "    .dataframe tbody tr th:only-of-type {\n",
       "        vertical-align: middle;\n",
       "    }\n",
       "\n",
       "    .dataframe tbody tr th {\n",
       "        vertical-align: top;\n",
       "    }\n",
       "\n",
       "    .dataframe thead th {\n",
       "        text-align: right;\n",
       "    }\n",
       "</style>\n",
       "<table border=\"1\" class=\"dataframe\">\n",
       "  <thead>\n",
       "    <tr style=\"text-align: right;\">\n",
       "      <th></th>\n",
       "      <th>Item_Identifier</th>\n",
       "      <th>Item_Weight</th>\n",
       "      <th>Item_Fat_Content</th>\n",
       "      <th>Item_Visibility</th>\n",
       "      <th>Item_Type</th>\n",
       "      <th>Item_MRP</th>\n",
       "      <th>Outlet_Identifier</th>\n",
       "      <th>Outlet_Establishment_Year</th>\n",
       "      <th>Outlet_Size</th>\n",
       "      <th>Outlet_Location_Type</th>\n",
       "      <th>Outlet_Type</th>\n",
       "      <th>Item_Outlet_Sales</th>\n",
       "    </tr>\n",
       "  </thead>\n",
       "  <tbody>\n",
       "    <tr>\n",
       "      <th>0</th>\n",
       "      <td>FDA15</td>\n",
       "      <td>9.30</td>\n",
       "      <td>Low Fat</td>\n",
       "      <td>0.016047</td>\n",
       "      <td>Dairy</td>\n",
       "      <td>249.8092</td>\n",
       "      <td>OUT049</td>\n",
       "      <td>1999</td>\n",
       "      <td>Medium</td>\n",
       "      <td>Tier 1</td>\n",
       "      <td>Supermarket Type1</td>\n",
       "      <td>3735.1380</td>\n",
       "    </tr>\n",
       "    <tr>\n",
       "      <th>1</th>\n",
       "      <td>DRC01</td>\n",
       "      <td>5.92</td>\n",
       "      <td>Regular</td>\n",
       "      <td>0.019278</td>\n",
       "      <td>Soft Drinks</td>\n",
       "      <td>48.2692</td>\n",
       "      <td>OUT018</td>\n",
       "      <td>2009</td>\n",
       "      <td>Medium</td>\n",
       "      <td>Tier 3</td>\n",
       "      <td>Supermarket Type2</td>\n",
       "      <td>443.4228</td>\n",
       "    </tr>\n",
       "    <tr>\n",
       "      <th>2</th>\n",
       "      <td>FDN15</td>\n",
       "      <td>17.50</td>\n",
       "      <td>Low Fat</td>\n",
       "      <td>0.016760</td>\n",
       "      <td>Meat</td>\n",
       "      <td>141.6180</td>\n",
       "      <td>OUT049</td>\n",
       "      <td>1999</td>\n",
       "      <td>Medium</td>\n",
       "      <td>Tier 1</td>\n",
       "      <td>Supermarket Type1</td>\n",
       "      <td>2097.2700</td>\n",
       "    </tr>\n",
       "    <tr>\n",
       "      <th>3</th>\n",
       "      <td>FDX07</td>\n",
       "      <td>19.20</td>\n",
       "      <td>Regular</td>\n",
       "      <td>0.000000</td>\n",
       "      <td>Fruits and Vegetables</td>\n",
       "      <td>182.0950</td>\n",
       "      <td>OUT010</td>\n",
       "      <td>1998</td>\n",
       "      <td>NaN</td>\n",
       "      <td>Tier 3</td>\n",
       "      <td>Grocery Store</td>\n",
       "      <td>732.3800</td>\n",
       "    </tr>\n",
       "    <tr>\n",
       "      <th>4</th>\n",
       "      <td>NCD19</td>\n",
       "      <td>8.93</td>\n",
       "      <td>Low Fat</td>\n",
       "      <td>0.000000</td>\n",
       "      <td>Household</td>\n",
       "      <td>53.8614</td>\n",
       "      <td>OUT013</td>\n",
       "      <td>1987</td>\n",
       "      <td>High</td>\n",
       "      <td>Tier 3</td>\n",
       "      <td>Supermarket Type1</td>\n",
       "      <td>994.7052</td>\n",
       "    </tr>\n",
       "  </tbody>\n",
       "</table>\n",
       "</div>"
      ],
      "text/plain": [
       "  Item_Identifier  Item_Weight Item_Fat_Content  Item_Visibility  \\\n",
       "0           FDA15         9.30          Low Fat         0.016047   \n",
       "1           DRC01         5.92          Regular         0.019278   \n",
       "2           FDN15        17.50          Low Fat         0.016760   \n",
       "3           FDX07        19.20          Regular         0.000000   \n",
       "4           NCD19         8.93          Low Fat         0.000000   \n",
       "\n",
       "               Item_Type  Item_MRP Outlet_Identifier  \\\n",
       "0                  Dairy  249.8092            OUT049   \n",
       "1            Soft Drinks   48.2692            OUT018   \n",
       "2                   Meat  141.6180            OUT049   \n",
       "3  Fruits and Vegetables  182.0950            OUT010   \n",
       "4              Household   53.8614            OUT013   \n",
       "\n",
       "   Outlet_Establishment_Year Outlet_Size Outlet_Location_Type  \\\n",
       "0                       1999      Medium               Tier 1   \n",
       "1                       2009      Medium               Tier 3   \n",
       "2                       1999      Medium               Tier 1   \n",
       "3                       1998         NaN               Tier 3   \n",
       "4                       1987        High               Tier 3   \n",
       "\n",
       "         Outlet_Type  Item_Outlet_Sales  \n",
       "0  Supermarket Type1          3735.1380  \n",
       "1  Supermarket Type2           443.4228  \n",
       "2  Supermarket Type1          2097.2700  \n",
       "3      Grocery Store           732.3800  \n",
       "4  Supermarket Type1           994.7052  "
      ]
     },
     "execution_count": 5,
     "metadata": {},
     "output_type": "execute_result"
    }
   ],
   "source": [
    "# read the data and print out the first few rows \n",
    "bigdata = pd.read_csv('BigMart Sales Data.csv')\n",
    "\n",
    "# make a copy of the data\n",
    "bigmart = bigdata.copy()\n",
    "bigmart.head()"
   ]
  },
  {
   "cell_type": "code",
   "execution_count": null,
   "id": "acbd2ce4",
   "metadata": {},
   "outputs": [],
   "source": []
  },
  {
   "cell_type": "markdown",
   "id": "18d8c429",
   "metadata": {},
   "source": [
    "## DATA CLEANING\n"
   ]
  },
  {
   "cell_type": "markdown",
   "id": "ad4e04dc",
   "metadata": {},
   "source": [
    "The data has 12 columns with 8523 entries. The following could be deducted form the initial exploration\n",
    "+ All the columns have no missing values except the **Item_Weight* and **Outlet_Size** columns both having 17.16% and 28.27% of their values missing respectively. \n",
    "+ The store sells 1559 unique items or products. This is too many to be useful, we need to see how we can categorise them into a smaller number of groups \n",
    "+ in the Item_Fat_Content column, there appears to be inconsistencies in the data as **Low Fat** is also represented as *LF* or **low fat** in some rows. We can also see **Regular** being represented as **reg** in some rows. We will use **Low Fat** and **Regular** as replacement for these to ensure data quality.\n",
    "+ The min value of Item_Visibility is 0, but this can not be as every item must have some visibility.\n",
    "+ There are only 16 Item_Type.\n",
    "+ There are 10 stores."
   ]
  },
  {
   "cell_type": "code",
   "execution_count": 6,
   "id": "6f57b7f3",
   "metadata": {},
   "outputs": [
    {
     "name": "stdout",
     "output_type": "stream",
     "text": [
      "<class 'pandas.core.frame.DataFrame'>\n",
      "RangeIndex: 8523 entries, 0 to 8522\n",
      "Data columns (total 12 columns):\n",
      " #   Column                     Non-Null Count  Dtype  \n",
      "---  ------                     --------------  -----  \n",
      " 0   Item_Identifier            8523 non-null   object \n",
      " 1   Item_Weight                7060 non-null   float64\n",
      " 2   Item_Fat_Content           8523 non-null   object \n",
      " 3   Item_Visibility            8523 non-null   float64\n",
      " 4   Item_Type                  8523 non-null   object \n",
      " 5   Item_MRP                   8523 non-null   float64\n",
      " 6   Outlet_Identifier          8523 non-null   object \n",
      " 7   Outlet_Establishment_Year  8523 non-null   int64  \n",
      " 8   Outlet_Size                6113 non-null   object \n",
      " 9   Outlet_Location_Type       8523 non-null   object \n",
      " 10  Outlet_Type                8523 non-null   object \n",
      " 11  Item_Outlet_Sales          8523 non-null   float64\n",
      "dtypes: float64(4), int64(1), object(7)\n",
      "memory usage: 799.2+ KB\n"
     ]
    }
   ],
   "source": [
    "bigmart.info()\n"
   ]
  },
  {
   "cell_type": "code",
   "execution_count": 7,
   "id": "2f6893e8",
   "metadata": {},
   "outputs": [
    {
     "data": {
      "text/html": [
       "<div>\n",
       "<style scoped>\n",
       "    .dataframe tbody tr th:only-of-type {\n",
       "        vertical-align: middle;\n",
       "    }\n",
       "\n",
       "    .dataframe tbody tr th {\n",
       "        vertical-align: top;\n",
       "    }\n",
       "\n",
       "    .dataframe thead th {\n",
       "        text-align: right;\n",
       "    }\n",
       "</style>\n",
       "<table border=\"1\" class=\"dataframe\">\n",
       "  <thead>\n",
       "    <tr style=\"text-align: right;\">\n",
       "      <th></th>\n",
       "      <th>Type</th>\n",
       "      <th>Nan %</th>\n",
       "      <th># Values</th>\n",
       "    </tr>\n",
       "  </thead>\n",
       "  <tbody>\n",
       "    <tr>\n",
       "      <th>Item_Identifier</th>\n",
       "      <td>object</td>\n",
       "      <td>0.000000</td>\n",
       "      <td>1559</td>\n",
       "    </tr>\n",
       "    <tr>\n",
       "      <th>Item_Weight</th>\n",
       "      <td>float64</td>\n",
       "      <td>17.165317</td>\n",
       "      <td>415</td>\n",
       "    </tr>\n",
       "    <tr>\n",
       "      <th>Item_Fat_Content</th>\n",
       "      <td>object</td>\n",
       "      <td>0.000000</td>\n",
       "      <td>5</td>\n",
       "    </tr>\n",
       "    <tr>\n",
       "      <th>Item_Visibility</th>\n",
       "      <td>float64</td>\n",
       "      <td>0.000000</td>\n",
       "      <td>7880</td>\n",
       "    </tr>\n",
       "    <tr>\n",
       "      <th>Item_Type</th>\n",
       "      <td>object</td>\n",
       "      <td>0.000000</td>\n",
       "      <td>16</td>\n",
       "    </tr>\n",
       "    <tr>\n",
       "      <th>Item_MRP</th>\n",
       "      <td>float64</td>\n",
       "      <td>0.000000</td>\n",
       "      <td>5938</td>\n",
       "    </tr>\n",
       "    <tr>\n",
       "      <th>Outlet_Identifier</th>\n",
       "      <td>object</td>\n",
       "      <td>0.000000</td>\n",
       "      <td>10</td>\n",
       "    </tr>\n",
       "    <tr>\n",
       "      <th>Outlet_Establishment_Year</th>\n",
       "      <td>int64</td>\n",
       "      <td>0.000000</td>\n",
       "      <td>9</td>\n",
       "    </tr>\n",
       "    <tr>\n",
       "      <th>Outlet_Size</th>\n",
       "      <td>object</td>\n",
       "      <td>28.276428</td>\n",
       "      <td>3</td>\n",
       "    </tr>\n",
       "    <tr>\n",
       "      <th>Outlet_Location_Type</th>\n",
       "      <td>object</td>\n",
       "      <td>0.000000</td>\n",
       "      <td>3</td>\n",
       "    </tr>\n",
       "    <tr>\n",
       "      <th>Outlet_Type</th>\n",
       "      <td>object</td>\n",
       "      <td>0.000000</td>\n",
       "      <td>4</td>\n",
       "    </tr>\n",
       "    <tr>\n",
       "      <th>Item_Outlet_Sales</th>\n",
       "      <td>float64</td>\n",
       "      <td>0.000000</td>\n",
       "      <td>3493</td>\n",
       "    </tr>\n",
       "  </tbody>\n",
       "</table>\n",
       "</div>"
      ],
      "text/plain": [
       "                              Type      Nan %  # Values\n",
       "Item_Identifier             object   0.000000      1559\n",
       "Item_Weight                float64  17.165317       415\n",
       "Item_Fat_Content            object   0.000000         5\n",
       "Item_Visibility            float64   0.000000      7880\n",
       "Item_Type                   object   0.000000        16\n",
       "Item_MRP                   float64   0.000000      5938\n",
       "Outlet_Identifier           object   0.000000        10\n",
       "Outlet_Establishment_Year    int64   0.000000         9\n",
       "Outlet_Size                 object  28.276428         3\n",
       "Outlet_Location_Type        object   0.000000         3\n",
       "Outlet_Type                 object   0.000000         4\n",
       "Item_Outlet_Sales          float64   0.000000      3493"
      ]
     },
     "execution_count": 7,
     "metadata": {},
     "output_type": "execute_result"
    }
   ],
   "source": [
    "# check for missing vlaues and data type\n",
    "explore(bigmart)"
   ]
  },
  {
   "cell_type": "code",
   "execution_count": 8,
   "id": "28353b3c",
   "metadata": {},
   "outputs": [
    {
     "data": {
      "text/html": [
       "<div>\n",
       "<style scoped>\n",
       "    .dataframe tbody tr th:only-of-type {\n",
       "        vertical-align: middle;\n",
       "    }\n",
       "\n",
       "    .dataframe tbody tr th {\n",
       "        vertical-align: top;\n",
       "    }\n",
       "\n",
       "    .dataframe thead th {\n",
       "        text-align: right;\n",
       "    }\n",
       "</style>\n",
       "<table border=\"1\" class=\"dataframe\">\n",
       "  <thead>\n",
       "    <tr style=\"text-align: right;\">\n",
       "      <th></th>\n",
       "      <th>Item_Weight</th>\n",
       "      <th>Item_Visibility</th>\n",
       "      <th>Item_MRP</th>\n",
       "      <th>Outlet_Establishment_Year</th>\n",
       "      <th>Item_Outlet_Sales</th>\n",
       "    </tr>\n",
       "  </thead>\n",
       "  <tbody>\n",
       "    <tr>\n",
       "      <th>count</th>\n",
       "      <td>7060.000000</td>\n",
       "      <td>8523.000000</td>\n",
       "      <td>8523.000000</td>\n",
       "      <td>8523.000000</td>\n",
       "      <td>8523.000000</td>\n",
       "    </tr>\n",
       "    <tr>\n",
       "      <th>mean</th>\n",
       "      <td>12.857645</td>\n",
       "      <td>0.066132</td>\n",
       "      <td>140.992782</td>\n",
       "      <td>1997.831867</td>\n",
       "      <td>2181.288914</td>\n",
       "    </tr>\n",
       "    <tr>\n",
       "      <th>std</th>\n",
       "      <td>4.643456</td>\n",
       "      <td>0.051598</td>\n",
       "      <td>62.275067</td>\n",
       "      <td>8.371760</td>\n",
       "      <td>1706.499616</td>\n",
       "    </tr>\n",
       "    <tr>\n",
       "      <th>min</th>\n",
       "      <td>4.555000</td>\n",
       "      <td>0.000000</td>\n",
       "      <td>31.290000</td>\n",
       "      <td>1985.000000</td>\n",
       "      <td>33.290000</td>\n",
       "    </tr>\n",
       "    <tr>\n",
       "      <th>25%</th>\n",
       "      <td>8.773750</td>\n",
       "      <td>0.026989</td>\n",
       "      <td>93.826500</td>\n",
       "      <td>1987.000000</td>\n",
       "      <td>834.247400</td>\n",
       "    </tr>\n",
       "    <tr>\n",
       "      <th>50%</th>\n",
       "      <td>12.600000</td>\n",
       "      <td>0.053931</td>\n",
       "      <td>143.012800</td>\n",
       "      <td>1999.000000</td>\n",
       "      <td>1794.331000</td>\n",
       "    </tr>\n",
       "    <tr>\n",
       "      <th>75%</th>\n",
       "      <td>16.850000</td>\n",
       "      <td>0.094585</td>\n",
       "      <td>185.643700</td>\n",
       "      <td>2004.000000</td>\n",
       "      <td>3101.296400</td>\n",
       "    </tr>\n",
       "    <tr>\n",
       "      <th>max</th>\n",
       "      <td>21.350000</td>\n",
       "      <td>0.328391</td>\n",
       "      <td>266.888400</td>\n",
       "      <td>2009.000000</td>\n",
       "      <td>13086.964800</td>\n",
       "    </tr>\n",
       "  </tbody>\n",
       "</table>\n",
       "</div>"
      ],
      "text/plain": [
       "       Item_Weight  Item_Visibility     Item_MRP  Outlet_Establishment_Year  \\\n",
       "count  7060.000000      8523.000000  8523.000000                8523.000000   \n",
       "mean     12.857645         0.066132   140.992782                1997.831867   \n",
       "std       4.643456         0.051598    62.275067                   8.371760   \n",
       "min       4.555000         0.000000    31.290000                1985.000000   \n",
       "25%       8.773750         0.026989    93.826500                1987.000000   \n",
       "50%      12.600000         0.053931   143.012800                1999.000000   \n",
       "75%      16.850000         0.094585   185.643700                2004.000000   \n",
       "max      21.350000         0.328391   266.888400                2009.000000   \n",
       "\n",
       "       Item_Outlet_Sales  \n",
       "count        8523.000000  \n",
       "mean         2181.288914  \n",
       "std          1706.499616  \n",
       "min            33.290000  \n",
       "25%           834.247400  \n",
       "50%          1794.331000  \n",
       "75%          3101.296400  \n",
       "max         13086.964800  "
      ]
     },
     "execution_count": 8,
     "metadata": {},
     "output_type": "execute_result"
    }
   ],
   "source": [
    "# check the summary statistics of the data\n",
    "bigmart.describe()"
   ]
  },
  {
   "cell_type": "code",
   "execution_count": 9,
   "id": "e88b62d5",
   "metadata": {},
   "outputs": [
    {
     "data": {
      "text/plain": [
       "array(['Low Fat', 'Regular', 'low fat', 'LF', 'reg'], dtype=object)"
      ]
     },
     "execution_count": 9,
     "metadata": {},
     "output_type": "execute_result"
    }
   ],
   "source": [
    "# lets check check unique value of tha caegorical columns\n",
    "# to see if there are inconsistencies\n",
    "bigmart.Item_Fat_Content.unique()"
   ]
  },
  {
   "cell_type": "markdown",
   "id": "a8db7661",
   "metadata": {},
   "source": [
    "Further Observations include:\n",
    "+ Stores with Outlet_Identifier OUT010 and OUT019 have significantly smaller number of sales.\n",
    "+ Supermarket Type2 and Type3 can be combined. But we should check if that’s a good idea before doing it\n",
    "+ Not all categories of **Item_Type** have substantial numbers. It looks like combining them can give better results."
   ]
  },
  {
   "cell_type": "code",
   "execution_count": 10,
   "id": "32923738",
   "metadata": {},
   "outputs": [
    {
     "name": "stdout",
     "output_type": "stream",
     "text": [
      "\n",
      "Frequency of Categories for Item_Identifier\n",
      "FDW13    10\n",
      "FDG33    10\n",
      "NCY18     9\n",
      "FDD38     9\n",
      "DRE49     9\n",
      "         ..\n",
      "FDY43     1\n",
      "FDQ60     1\n",
      "FDO33     1\n",
      "DRF48     1\n",
      "FDC23     1\n",
      "Name: Item_Identifier, Length: 1559, dtype: int64\n",
      "\n",
      "Frequency of Categories for Item_Fat_Content\n",
      "Low Fat    5089\n",
      "Regular    2889\n",
      "LF          316\n",
      "reg         117\n",
      "low fat     112\n",
      "Name: Item_Fat_Content, dtype: int64\n",
      "\n",
      "Frequency of Categories for Item_Type\n",
      "Fruits and Vegetables    1232\n",
      "Snack Foods              1200\n",
      "Household                 910\n",
      "Frozen Foods              856\n",
      "Dairy                     682\n",
      "Canned                    649\n",
      "Baking Goods              648\n",
      "Health and Hygiene        520\n",
      "Soft Drinks               445\n",
      "Meat                      425\n",
      "Breads                    251\n",
      "Hard Drinks               214\n",
      "Others                    169\n",
      "Starchy Foods             148\n",
      "Breakfast                 110\n",
      "Seafood                    64\n",
      "Name: Item_Type, dtype: int64\n",
      "\n",
      "Frequency of Categories for Outlet_Identifier\n",
      "OUT027    935\n",
      "OUT013    932\n",
      "OUT049    930\n",
      "OUT046    930\n",
      "OUT035    930\n",
      "OUT045    929\n",
      "OUT018    928\n",
      "OUT017    926\n",
      "OUT010    555\n",
      "OUT019    528\n",
      "Name: Outlet_Identifier, dtype: int64\n",
      "\n",
      "Frequency of Categories for Outlet_Size\n",
      "Medium    2793\n",
      "Small     2388\n",
      "High       932\n",
      "Name: Outlet_Size, dtype: int64\n",
      "\n",
      "Frequency of Categories for Outlet_Location_Type\n",
      "Tier 3    3350\n",
      "Tier 2    2785\n",
      "Tier 1    2388\n",
      "Name: Outlet_Location_Type, dtype: int64\n",
      "\n",
      "Frequency of Categories for Outlet_Type\n",
      "Supermarket Type1    5577\n",
      "Grocery Store        1083\n",
      "Supermarket Type3     935\n",
      "Supermarket Type2     928\n",
      "Name: Outlet_Type, dtype: int64\n"
     ]
    }
   ],
   "source": [
    "# check the frequncy of each dfferent category in each nominal value\n",
    "# filtert  the categorical variables\n",
    "\n",
    "cat_columns = [x for x in bigmart.dtypes.index if bigmart.dtypes[x] == 'object']\n",
    "\n",
    "# exclude the Item_Identifier column\n",
    "cat_columns = [x for x in cat_columns if x not in ['Item_identifier']]\n",
    "\n",
    "# print frequencies of categories\n",
    "for col in cat_columns:\n",
    "    print('\\nFrequency of Categories for {}'.format(col))\n",
    "    print(bigmart[col].value_counts())"
   ]
  },
  {
   "cell_type": "code",
   "execution_count": null,
   "id": "91e06f6b",
   "metadata": {},
   "outputs": [],
   "source": []
  },
  {
   "cell_type": "markdown",
   "id": "abf28446",
   "metadata": {},
   "source": [
    "### Imputing Missing Values\n"
   ]
  },
  {
   "cell_type": "markdown",
   "id": "45bf4b6c",
   "metadata": {},
   "source": [
    "**Item_Weight**\n",
    "\n",
    "Assuming each Item_Identifier identifies a specific item, then it seems reasonable to impute the missing values of the Item_Weight by the average Item_Weight of each Item_Identifier.\n",
    "\n",
    "To check that we have imputed the values in a reasonable way, we can check the average weight per Outlet_Identifier before and after imputing the missing values.\n",
    "\n",
    "The graph below shows that the missing weights affects two outlets (**OUT019** and **OUT027**). It can be seen that each outlet has almost the same average values and distribution"
   ]
  },
  {
   "cell_type": "code",
   "execution_count": 11,
   "id": "3ce702b4",
   "metadata": {},
   "outputs": [
    {
     "data": {
      "text/plain": [
       "<Axes: title={'center': 'Item_Weight'}, xlabel='Outlet_Identifier'>"
      ]
     },
     "execution_count": 11,
     "metadata": {},
     "output_type": "execute_result"
    },
    {
     "data": {
      "image/png": "[encoded data removed]",
      "text/plain": [
       "<Figure size 640x480 with 1 Axes>"
      ]
     },
     "metadata": {},
     "output_type": "display_data"
    }
   ],
   "source": [
    "bigmart.boxplot(column = 'Item_Weight', by = 'Outlet_Identifier',\n",
    "            rot = 60)"
   ]
  },
  {
   "cell_type": "code",
   "execution_count": 12,
   "id": "0206202b",
   "metadata": {},
   "outputs": [
    {
     "data": {
      "text/html": [
       "<div>\n",
       "<style scoped>\n",
       "    .dataframe tbody tr th:only-of-type {\n",
       "        vertical-align: middle;\n",
       "    }\n",
       "\n",
       "    .dataframe tbody tr th {\n",
       "        vertical-align: top;\n",
       "    }\n",
       "\n",
       "    .dataframe thead th {\n",
       "        text-align: right;\n",
       "    }\n",
       "</style>\n",
       "<table border=\"1\" class=\"dataframe\">\n",
       "  <thead>\n",
       "    <tr style=\"text-align: right;\">\n",
       "      <th></th>\n",
       "      <th>Item_Weight</th>\n",
       "    </tr>\n",
       "    <tr>\n",
       "      <th>Item_Identifier</th>\n",
       "      <th></th>\n",
       "    </tr>\n",
       "  </thead>\n",
       "  <tbody>\n",
       "    <tr>\n",
       "      <th>DRA12</th>\n",
       "      <td>11.600</td>\n",
       "    </tr>\n",
       "    <tr>\n",
       "      <th>DRA24</th>\n",
       "      <td>19.350</td>\n",
       "    </tr>\n",
       "    <tr>\n",
       "      <th>DRA59</th>\n",
       "      <td>8.270</td>\n",
       "    </tr>\n",
       "    <tr>\n",
       "      <th>DRB01</th>\n",
       "      <td>7.390</td>\n",
       "    </tr>\n",
       "    <tr>\n",
       "      <th>DRB13</th>\n",
       "      <td>6.115</td>\n",
       "    </tr>\n",
       "  </tbody>\n",
       "</table>\n",
       "</div>"
      ],
      "text/plain": [
       "                 Item_Weight\n",
       "Item_Identifier             \n",
       "DRA12                 11.600\n",
       "DRA24                 19.350\n",
       "DRA59                  8.270\n",
       "DRB01                  7.390\n",
       "DRB13                  6.115"
      ]
     },
     "execution_count": 12,
     "metadata": {},
     "output_type": "execute_result"
    }
   ],
   "source": [
    "# let get the average weigth per item\n",
    "item_avg_weight = bigmart.pivot_table(values = 'Item_Weight', index = 'Item_Identifier')\n",
    "item_avg_weight.head()"
   ]
  },
  {
   "cell_type": "code",
   "execution_count": 13,
   "id": "ece82fc0",
   "metadata": {},
   "outputs": [],
   "source": [
    "# create a dictionary by group the item weight based on the \n",
    "# sub group Item_Identifier\n",
    "weight_dict = bigmart.groupby(\"Item_Identifier\")[\"Item_Weight\"].mean().to_dict()\n",
    "#print(weight_dict)\n",
    "\n",
    "# impute the salaries by the sub group \n",
    "bigmart[\"Item_Weight\"] = bigmart[\"Item_Weight\"].fillna(bigmart[\"Item_Identifier\"].map(weight_dict))"
   ]
  },
  {
   "cell_type": "code",
   "execution_count": 14,
   "id": "2271e24f",
   "metadata": {},
   "outputs": [],
   "source": [
    "# create a mask of the missing data in Item_Weight\n",
    "#null_mask_weight = bigmart['Item_Weight'].isnull()\n",
    "\n",
    "# impute values\n",
    "#bigmart.loc[null_mask_weight, 'Item_Weight'] = bigmart.loc[null_mask_weight, 'Item_Identifier'].apply(lambda x: item_avg_weight.loc[x])"
   ]
  },
  {
   "cell_type": "markdown",
   "id": "8c1235ad",
   "metadata": {},
   "source": [
    "And now we can see that the values we have chosen to replace the missing weights are reasonable as the boxplot of the affected outlets now follows the same pattern as the others."
   ]
  },
  {
   "cell_type": "code",
   "execution_count": 15,
   "id": "05f38a48",
   "metadata": {},
   "outputs": [
    {
     "data": {
      "text/plain": [
       "Text(0.5, 1.0, 'Weights of Items grouped based on the Outlet')"
      ]
     },
     "execution_count": 15,
     "metadata": {},
     "output_type": "execute_result"
    },
    {
     "data": {
      "text/plain": [
       "<Figure size 2000x1200 with 0 Axes>"
      ]
     },
     "metadata": {},
     "output_type": "display_data"
    },
    {
     "data": {
      "image/png": "[encoded data removed]",
      "text/plain": [
       "<Figure size 640x480 with 1 Axes>"
      ]
     },
     "metadata": {},
     "output_type": "display_data"
    }
   ],
   "source": [
    "# let's verify\n",
    "# set fig parameters\n",
    "plt.figure(figsize=(20,12))\n",
    "\n",
    "# create a box plot to see the change\n",
    "\n",
    "ax = bigmart.boxplot(column='Item_Weight', by='Outlet_Identifier', rot=60)\n",
    "ax.set_ylabel('Weight of Items') # set y label\n",
    "ax.set_xlabel('Outlet Identifier')\n",
    "ax.set_title('Weights of Items grouped based on the Outlet')"
   ]
  },
  {
   "cell_type": "code",
   "execution_count": 16,
   "id": "9c7efa0d",
   "metadata": {},
   "outputs": [
    {
     "data": {
      "text/plain": [
       "4"
      ]
     },
     "execution_count": 16,
     "metadata": {},
     "output_type": "execute_result"
    }
   ],
   "source": [
    "bigmart.Item_Weight.isnull().sum()"
   ]
  },
  {
   "cell_type": "code",
   "execution_count": null,
   "id": "1ead4df3",
   "metadata": {},
   "outputs": [],
   "source": []
  },
  {
   "cell_type": "markdown",
   "id": "7bd62db5",
   "metadata": {},
   "source": [
    "**Outlet Size**\n",
    "\n",
    "It could be reasonable to impute the missing values of **Outlet_size** by the mode size for each **Outlet_Type**. Let have a look at the mode size for each Outlet_Type.\n",
    "\n",
    "Based on the table below, Grocery stores could be considered to be smaller than the supermarkets, so we could replace the `unknown` in the pivot table above by `small`, but let's check the the sales in each Outlet_Type to see if we can confirm this."
   ]
  },
  {
   "cell_type": "code",
   "execution_count": 17,
   "id": "45b6b1ee",
   "metadata": {},
   "outputs": [
    {
     "data": {
      "text/html": [
       "<div>\n",
       "<style scoped>\n",
       "    .dataframe tbody tr th:only-of-type {\n",
       "        vertical-align: middle;\n",
       "    }\n",
       "\n",
       "    .dataframe tbody tr th {\n",
       "        vertical-align: top;\n",
       "    }\n",
       "\n",
       "    .dataframe thead th {\n",
       "        text-align: right;\n",
       "    }\n",
       "</style>\n",
       "<table border=\"1\" class=\"dataframe\">\n",
       "  <thead>\n",
       "    <tr style=\"text-align: right;\">\n",
       "      <th></th>\n",
       "      <th>Outlet_Size</th>\n",
       "    </tr>\n",
       "    <tr>\n",
       "      <th>Outlet_Type</th>\n",
       "      <th></th>\n",
       "    </tr>\n",
       "  </thead>\n",
       "  <tbody>\n",
       "    <tr>\n",
       "      <th>Grocery Store</th>\n",
       "      <td>unknown</td>\n",
       "    </tr>\n",
       "    <tr>\n",
       "      <th>Supermarket Type1</th>\n",
       "      <td>Small</td>\n",
       "    </tr>\n",
       "    <tr>\n",
       "      <th>Supermarket Type2</th>\n",
       "      <td>Medium</td>\n",
       "    </tr>\n",
       "    <tr>\n",
       "      <th>Supermarket Type3</th>\n",
       "      <td>Medium</td>\n",
       "    </tr>\n",
       "  </tbody>\n",
       "</table>\n",
       "</div>"
      ],
      "text/plain": [
       "                  Outlet_Size\n",
       "Outlet_Type                  \n",
       "Grocery Store         unknown\n",
       "Supermarket Type1       Small\n",
       "Supermarket Type2      Medium\n",
       "Supermarket Type3      Medium"
      ]
     },
     "execution_count": 17,
     "metadata": {},
     "output_type": "execute_result"
    }
   ],
   "source": [
    "# replace all nan values with 'unknown', because the mode function of stats can not compare a float (NaN) and a string\n",
    "bigmart['Outlet_Size'] = bigmart['Outlet_Size'].fillna('unknown')\n",
    "#print(weight_dict)\n",
    "\n",
    "# lets check the mode of Outlet size per outlet type\n",
    "outlet_type_mode = bigmart.pivot_table(values = 'Outlet_Size', index = 'Outlet_Type',\n",
    "                                      aggfunc = (lambda x : mode(x).mode[0]))\n",
    "outlet_type_mode"
   ]
  },
  {
   "cell_type": "markdown",
   "id": "2e3085b5",
   "metadata": {},
   "source": [
    "Grocery stores report far fewer sales than the other Outlet_Types and they have Outlet_Size values that are either 'small' or 'unknown'. Therefore we can reasonably replace the mode value of Grocery Stores with 'small' and impute the missing values of Outlet_Size with the mode value for each Outlet_Type. To check we have done this correctly, we can visualise the Item_Outlet_Sales per Outlet_Identifier.\n",
    "\n",
    "Note also that Type 2 stores are all medium and Type 3 are also all medium size. Type 1 stores have all sizes, which all have similar sales."
   ]
  },
  {
   "cell_type": "code",
   "execution_count": 18,
   "id": "2f7edce7",
   "metadata": {},
   "outputs": [
    {
     "data": {
      "image/png": "[encoded data removed]",
      "text/plain": [
       "<Figure size 1600x1200 with 1 Axes>"
      ]
     },
     "metadata": {},
     "output_type": "display_data"
    }
   ],
   "source": [
    "# sales per Outlet_Type\n",
    "plt.figure(figsize=(16, 12))\n",
    "ax = sns.boxplot(data = bigmart, x = 'Outlet_Type', y = 'Item_Outlet_Sales',\n",
    "                palette = 'rocket_r', hue = 'Outlet_Size',\n",
    "                order = ['Grocery Store', 'Supermarket Type1', 'Supermarket Type2', 'Supermarket Type3'])\n",
    "ax.set_title('Distribution of Sales per Outlet Type', fontsize =20)\n",
    "ax.set_ylabel('Outlet Sales', fontsize = 16)\n",
    "ax.set_xlabel('Outlet Type', fontsize= 16)\n",
    "plt.xticks(fontsize = 12)\n",
    "plt.show()"
   ]
  },
  {
   "cell_type": "markdown",
   "id": "363daff3",
   "metadata": {},
   "source": [
    "OUT010 and OUT019 seem to be of size 'small"
   ]
  },
  {
   "cell_type": "code",
   "execution_count": 19,
   "id": "70bdb18c",
   "metadata": {},
   "outputs": [
    {
     "data": {
      "image/png": "[encoded data removed]",
      "text/plain": [
       "<Figure size 1600x1200 with 1 Axes>"
      ]
     },
     "metadata": {},
     "output_type": "display_data"
    }
   ],
   "source": [
    "# sales per Outlet_Type\n",
    "plt.figure(figsize=(16, 12))\n",
    "ax = sns.boxplot(data = bigmart, x = 'Outlet_Identifier', y = 'Item_Outlet_Sales',\n",
    "                palette = 'Paired')\n",
    "ax.set_title('Distribution of Sales per Outlet Identifier', fontsize =20)\n",
    "ax.set_ylabel('Outlet Sales', fontsize = 16)\n",
    "ax.set_xlabel('Outlet Identifier', fontsize= 16)\n",
    "plt.xticks(fontsize = 12)\n",
    "plt.show()"
   ]
  },
  {
   "cell_type": "code",
   "execution_count": 20,
   "id": "003fdcb7",
   "metadata": {},
   "outputs": [
    {
     "data": {
      "text/html": [
       "<div>\n",
       "<style scoped>\n",
       "    .dataframe tbody tr th:only-of-type {\n",
       "        vertical-align: middle;\n",
       "    }\n",
       "\n",
       "    .dataframe tbody tr th {\n",
       "        vertical-align: top;\n",
       "    }\n",
       "\n",
       "    .dataframe thead th {\n",
       "        text-align: right;\n",
       "    }\n",
       "</style>\n",
       "<table border=\"1\" class=\"dataframe\">\n",
       "  <thead>\n",
       "    <tr style=\"text-align: right;\">\n",
       "      <th></th>\n",
       "      <th>Outlet_Size</th>\n",
       "    </tr>\n",
       "    <tr>\n",
       "      <th>Outlet_Type</th>\n",
       "      <th></th>\n",
       "    </tr>\n",
       "  </thead>\n",
       "  <tbody>\n",
       "    <tr>\n",
       "      <th>Grocery Store</th>\n",
       "      <td>Small</td>\n",
       "    </tr>\n",
       "    <tr>\n",
       "      <th>Supermarket Type1</th>\n",
       "      <td>Small</td>\n",
       "    </tr>\n",
       "    <tr>\n",
       "      <th>Supermarket Type2</th>\n",
       "      <td>Medium</td>\n",
       "    </tr>\n",
       "    <tr>\n",
       "      <th>Supermarket Type3</th>\n",
       "      <td>Medium</td>\n",
       "    </tr>\n",
       "  </tbody>\n",
       "</table>\n",
       "</div>"
      ],
      "text/plain": [
       "                  Outlet_Size\n",
       "Outlet_Type                  \n",
       "Grocery Store           Small\n",
       "Supermarket Type1       Small\n",
       "Supermarket Type2      Medium\n",
       "Supermarket Type3      Medium"
      ]
     },
     "execution_count": 20,
     "metadata": {},
     "output_type": "execute_result"
    }
   ],
   "source": [
    "# lets replace Outlet_Size of the Grocery store with small\n",
    "outlet_type_mode.loc['Grocery Store'] = 'Small'\n",
    "outlet_type_mode"
   ]
  },
  {
   "cell_type": "code",
   "execution_count": 21,
   "id": "d0b8c9ba",
   "metadata": {},
   "outputs": [],
   "source": [
    "# create a dictionary by group the item weight based on the \n",
    "# sub group Item_Identifier\n",
    "#weight_dict = bigmart.groupby(\"Item_Identifier\")[\"Item_Weight\"].mean().to_dict()\n",
    "#print(weight_dict)\n",
    "\n",
    "# impute the salaries by the sub group \n",
    "#bigmart[\"Outlet_size\"] = bigmart[\"Outlet_Size\"].fillna(bigmart[\"Outlet_Type\"].map(outlet_type_mode))"
   ]
  },
  {
   "cell_type": "code",
   "execution_count": 22,
   "id": "fcf3c636",
   "metadata": {},
   "outputs": [
    {
     "name": "stdout",
     "output_type": "stream",
     "text": [
      "<class 'pandas.core.frame.DataFrame'>\n",
      "RangeIndex: 8523 entries, 0 to 8522\n",
      "Data columns (total 12 columns):\n",
      " #   Column                     Non-Null Count  Dtype  \n",
      "---  ------                     --------------  -----  \n",
      " 0   Item_Identifier            8523 non-null   object \n",
      " 1   Item_Weight                8519 non-null   float64\n",
      " 2   Item_Fat_Content           8523 non-null   object \n",
      " 3   Item_Visibility            8523 non-null   float64\n",
      " 4   Item_Type                  8523 non-null   object \n",
      " 5   Item_MRP                   8523 non-null   float64\n",
      " 6   Outlet_Identifier          8523 non-null   object \n",
      " 7   Outlet_Establishment_Year  8523 non-null   int64  \n",
      " 8   Outlet_Size                8523 non-null   object \n",
      " 9   Outlet_Location_Type       8523 non-null   object \n",
      " 10  Outlet_Type                8523 non-null   object \n",
      " 11  Item_Outlet_Sales          8523 non-null   float64\n",
      "dtypes: float64(4), int64(1), object(7)\n",
      "memory usage: 799.2+ KB\n"
     ]
    }
   ],
   "source": [
    "# lets replace Outlet_Size of the Grocery store with small\n",
    "outlet_type_mode.loc['Grocery Store'] = 'Small'\n",
    "# outlet_type_mode\n",
    "\n",
    "# create a mask of missing data in Outlet_Size\n",
    "null_mask_size = bigmart['Outlet_Size'].isnull()\n",
    "\n",
    "# impute values \n",
    "bigmart.loc[null_mask_size, 'Outlet_Size'] = bigmart.loc[null_mask_size, 'Outlet_Type'].\\\n",
    "                                             apply(lambda x:outlet_type_mode.loc[x])\n",
    "# verify \n",
    "bigmart.info()"
   ]
  },
  {
   "cell_type": "markdown",
   "id": "4f6843f4",
   "metadata": {},
   "source": [
    "So OUT010, OUT17 and OUT45 are still unknown; after imputing missing values, it should be 'small'."
   ]
  },
  {
   "cell_type": "code",
   "execution_count": 23,
   "id": "d24f1aab",
   "metadata": {},
   "outputs": [
    {
     "data": {
      "text/html": [
       "<div>\n",
       "<style scoped>\n",
       "    .dataframe tbody tr th:only-of-type {\n",
       "        vertical-align: middle;\n",
       "    }\n",
       "\n",
       "    .dataframe tbody tr th {\n",
       "        vertical-align: top;\n",
       "    }\n",
       "\n",
       "    .dataframe thead th {\n",
       "        text-align: right;\n",
       "    }\n",
       "</style>\n",
       "<table border=\"1\" class=\"dataframe\">\n",
       "  <thead>\n",
       "    <tr style=\"text-align: right;\">\n",
       "      <th></th>\n",
       "      <th>Outlet_Size</th>\n",
       "    </tr>\n",
       "    <tr>\n",
       "      <th>Outlet_Identifier</th>\n",
       "      <th></th>\n",
       "    </tr>\n",
       "  </thead>\n",
       "  <tbody>\n",
       "    <tr>\n",
       "      <th>OUT010</th>\n",
       "      <td>unknown</td>\n",
       "    </tr>\n",
       "    <tr>\n",
       "      <th>OUT013</th>\n",
       "      <td>High</td>\n",
       "    </tr>\n",
       "    <tr>\n",
       "      <th>OUT017</th>\n",
       "      <td>unknown</td>\n",
       "    </tr>\n",
       "    <tr>\n",
       "      <th>OUT018</th>\n",
       "      <td>Medium</td>\n",
       "    </tr>\n",
       "    <tr>\n",
       "      <th>OUT019</th>\n",
       "      <td>Small</td>\n",
       "    </tr>\n",
       "    <tr>\n",
       "      <th>OUT027</th>\n",
       "      <td>Medium</td>\n",
       "    </tr>\n",
       "    <tr>\n",
       "      <th>OUT035</th>\n",
       "      <td>Small</td>\n",
       "    </tr>\n",
       "    <tr>\n",
       "      <th>OUT045</th>\n",
       "      <td>unknown</td>\n",
       "    </tr>\n",
       "    <tr>\n",
       "      <th>OUT046</th>\n",
       "      <td>Small</td>\n",
       "    </tr>\n",
       "    <tr>\n",
       "      <th>OUT049</th>\n",
       "      <td>Medium</td>\n",
       "    </tr>\n",
       "  </tbody>\n",
       "</table>\n",
       "</div>"
      ],
      "text/plain": [
       "                  Outlet_Size\n",
       "Outlet_Identifier            \n",
       "OUT010                unknown\n",
       "OUT013                   High\n",
       "OUT017                unknown\n",
       "OUT018                 Medium\n",
       "OUT019                  Small\n",
       "OUT027                 Medium\n",
       "OUT035                  Small\n",
       "OUT045                unknown\n",
       "OUT046                  Small\n",
       "OUT049                 Medium"
      ]
     },
     "execution_count": 23,
     "metadata": {},
     "output_type": "execute_result"
    }
   ],
   "source": [
    "# print Outlet_Type of OUT010 and Out019\n",
    "outlet_identifier_mode_size = bigmart.pivot_table(values='Outlet_Size', index='Outlet_Identifier', aggfunc=(lambda x:mode(x).mode[0]))\n",
    "outlet_identifier_mode_size"
   ]
  },
  {
   "cell_type": "markdown",
   "id": "73f0b422",
   "metadata": {},
   "source": [
    "We can still see that there are still missing values in the `Item_Weight` column, we will have to drop those rows as the number of NaN is insignificant at this point."
   ]
  },
  {
   "cell_type": "code",
   "execution_count": 24,
   "id": "271c8b2e",
   "metadata": {},
   "outputs": [
    {
     "name": "stdout",
     "output_type": "stream",
     "text": [
      "0    Medium\n",
      "1    Medium\n",
      "2    Medium\n",
      "3     Small\n",
      "4      High\n",
      "5    Medium\n",
      "6      High\n",
      "7    Medium\n",
      "8     Small\n",
      "9     Small\n",
      "Name: Outlet_Size, dtype: object\n",
      "<class 'pandas.core.frame.DataFrame'>\n",
      "RangeIndex: 8523 entries, 0 to 8522\n",
      "Data columns (total 12 columns):\n",
      " #   Column                     Non-Null Count  Dtype  \n",
      "---  ------                     --------------  -----  \n",
      " 0   Item_Identifier            8523 non-null   object \n",
      " 1   Item_Weight                8519 non-null   float64\n",
      " 2   Item_Fat_Content           8523 non-null   object \n",
      " 3   Item_Visibility            8523 non-null   float64\n",
      " 4   Item_Type                  8523 non-null   object \n",
      " 5   Item_MRP                   8523 non-null   float64\n",
      " 6   Outlet_Identifier          8523 non-null   object \n",
      " 7   Outlet_Establishment_Year  8523 non-null   int64  \n",
      " 8   Outlet_Size                8523 non-null   object \n",
      " 9   Outlet_Location_Type       8523 non-null   object \n",
      " 10  Outlet_Type                8523 non-null   object \n",
      " 11  Item_Outlet_Sales          8523 non-null   float64\n",
      "dtypes: float64(4), int64(1), object(7)\n",
      "memory usage: 799.2+ KB\n",
      "None\n"
     ]
    }
   ],
   "source": [
    "# create a mask of the missing data in Item_Weight\n",
    "null_mask_size = bigmart['Outlet_Size']=='unknown'\n",
    "\n",
    "# impute values\n",
    "bigmart.loc[null_mask_size, 'Outlet_Size'] = bigmart.loc[null_mask_size, 'Outlet_Type'].\\\n",
    "                                          apply(lambda x: outlet_type_mode.loc[x])\n",
    "\n",
    "# check no missing values\n",
    "print(bigmart['Outlet_Size'].head(10))\n",
    "print(bigmart.info())"
   ]
  },
  {
   "cell_type": "code",
   "execution_count": 25,
   "id": "c731b91e",
   "metadata": {},
   "outputs": [
    {
     "data": {
      "text/html": [
       "<div>\n",
       "<style scoped>\n",
       "    .dataframe tbody tr th:only-of-type {\n",
       "        vertical-align: middle;\n",
       "    }\n",
       "\n",
       "    .dataframe tbody tr th {\n",
       "        vertical-align: top;\n",
       "    }\n",
       "\n",
       "    .dataframe thead th {\n",
       "        text-align: right;\n",
       "    }\n",
       "</style>\n",
       "<table border=\"1\" class=\"dataframe\">\n",
       "  <thead>\n",
       "    <tr style=\"text-align: right;\">\n",
       "      <th></th>\n",
       "      <th>Outlet_Size</th>\n",
       "    </tr>\n",
       "    <tr>\n",
       "      <th>Outlet_Identifier</th>\n",
       "      <th></th>\n",
       "    </tr>\n",
       "  </thead>\n",
       "  <tbody>\n",
       "    <tr>\n",
       "      <th>OUT010</th>\n",
       "      <td>Small</td>\n",
       "    </tr>\n",
       "    <tr>\n",
       "      <th>OUT013</th>\n",
       "      <td>High</td>\n",
       "    </tr>\n",
       "    <tr>\n",
       "      <th>OUT017</th>\n",
       "      <td>Small</td>\n",
       "    </tr>\n",
       "    <tr>\n",
       "      <th>OUT018</th>\n",
       "      <td>Medium</td>\n",
       "    </tr>\n",
       "    <tr>\n",
       "      <th>OUT019</th>\n",
       "      <td>Small</td>\n",
       "    </tr>\n",
       "    <tr>\n",
       "      <th>OUT027</th>\n",
       "      <td>Medium</td>\n",
       "    </tr>\n",
       "    <tr>\n",
       "      <th>OUT035</th>\n",
       "      <td>Small</td>\n",
       "    </tr>\n",
       "    <tr>\n",
       "      <th>OUT045</th>\n",
       "      <td>Small</td>\n",
       "    </tr>\n",
       "    <tr>\n",
       "      <th>OUT046</th>\n",
       "      <td>Small</td>\n",
       "    </tr>\n",
       "    <tr>\n",
       "      <th>OUT049</th>\n",
       "      <td>Medium</td>\n",
       "    </tr>\n",
       "  </tbody>\n",
       "</table>\n",
       "</div>"
      ],
      "text/plain": [
       "                  Outlet_Size\n",
       "Outlet_Identifier            \n",
       "OUT010                  Small\n",
       "OUT013                   High\n",
       "OUT017                  Small\n",
       "OUT018                 Medium\n",
       "OUT019                  Small\n",
       "OUT027                 Medium\n",
       "OUT035                  Small\n",
       "OUT045                  Small\n",
       "OUT046                  Small\n",
       "OUT049                 Medium"
      ]
     },
     "execution_count": 25,
     "metadata": {},
     "output_type": "execute_result"
    }
   ],
   "source": [
    "# print Outlet_Type of OUT010 and Out019\n",
    "outlet_identifier_mode_size = bigmart.pivot_table(values='Outlet_Size', index='Outlet_Identifier', aggfunc=(lambda x:mode(x).mode[0]))\n",
    "outlet_identifier_mode_size"
   ]
  },
  {
   "cell_type": "markdown",
   "id": "ed47bbb9",
   "metadata": {},
   "source": [
    "It is reasonable that OUT017 and OUT045 are imputed with small because their mode Outlet_Type is Supermarket Type 1 which has mode Outlet_Size small."
   ]
  },
  {
   "cell_type": "code",
   "execution_count": 26,
   "id": "7ff87b83",
   "metadata": {},
   "outputs": [
    {
     "data": {
      "text/html": [
       "<div>\n",
       "<style scoped>\n",
       "    .dataframe tbody tr th:only-of-type {\n",
       "        vertical-align: middle;\n",
       "    }\n",
       "\n",
       "    .dataframe tbody tr th {\n",
       "        vertical-align: top;\n",
       "    }\n",
       "\n",
       "    .dataframe thead th {\n",
       "        text-align: right;\n",
       "    }\n",
       "</style>\n",
       "<table border=\"1\" class=\"dataframe\">\n",
       "  <thead>\n",
       "    <tr style=\"text-align: right;\">\n",
       "      <th></th>\n",
       "      <th>Outlet_Type</th>\n",
       "    </tr>\n",
       "    <tr>\n",
       "      <th>Outlet_Identifier</th>\n",
       "      <th></th>\n",
       "    </tr>\n",
       "  </thead>\n",
       "  <tbody>\n",
       "    <tr>\n",
       "      <th>OUT010</th>\n",
       "      <td>Grocery Store</td>\n",
       "    </tr>\n",
       "    <tr>\n",
       "      <th>OUT013</th>\n",
       "      <td>Supermarket Type1</td>\n",
       "    </tr>\n",
       "    <tr>\n",
       "      <th>OUT017</th>\n",
       "      <td>Supermarket Type1</td>\n",
       "    </tr>\n",
       "    <tr>\n",
       "      <th>OUT018</th>\n",
       "      <td>Supermarket Type2</td>\n",
       "    </tr>\n",
       "    <tr>\n",
       "      <th>OUT019</th>\n",
       "      <td>Grocery Store</td>\n",
       "    </tr>\n",
       "    <tr>\n",
       "      <th>OUT027</th>\n",
       "      <td>Supermarket Type3</td>\n",
       "    </tr>\n",
       "    <tr>\n",
       "      <th>OUT035</th>\n",
       "      <td>Supermarket Type1</td>\n",
       "    </tr>\n",
       "    <tr>\n",
       "      <th>OUT045</th>\n",
       "      <td>Supermarket Type1</td>\n",
       "    </tr>\n",
       "    <tr>\n",
       "      <th>OUT046</th>\n",
       "      <td>Supermarket Type1</td>\n",
       "    </tr>\n",
       "    <tr>\n",
       "      <th>OUT049</th>\n",
       "      <td>Supermarket Type1</td>\n",
       "    </tr>\n",
       "  </tbody>\n",
       "</table>\n",
       "</div>"
      ],
      "text/plain": [
       "                         Outlet_Type\n",
       "Outlet_Identifier                   \n",
       "OUT010                 Grocery Store\n",
       "OUT013             Supermarket Type1\n",
       "OUT017             Supermarket Type1\n",
       "OUT018             Supermarket Type2\n",
       "OUT019                 Grocery Store\n",
       "OUT027             Supermarket Type3\n",
       "OUT035             Supermarket Type1\n",
       "OUT045             Supermarket Type1\n",
       "OUT046             Supermarket Type1\n",
       "OUT049             Supermarket Type1"
      ]
     },
     "execution_count": 26,
     "metadata": {},
     "output_type": "execute_result"
    }
   ],
   "source": [
    "bigmart.pivot_table(values='Outlet_Type', index = 'Outlet_Identifier',\n",
    "                   aggfunc=(lambda x: mode(x).mode[0]))"
   ]
  },
  {
   "cell_type": "markdown",
   "id": "851ad7f4",
   "metadata": {},
   "source": [
    "### Minimum Vlaue of Item_visibility being Zero \n",
    "\n",
    "The min value of Item_Visibility is 0, but this can not be as every item must have some visibility.\n",
    "\n",
    "We want to replace the 0 values for the mean visibility value of that product in each store"
   ]
  },
  {
   "cell_type": "code",
   "execution_count": 27,
   "id": "80831f1d",
   "metadata": {},
   "outputs": [
    {
     "data": {
      "text/plain": [
       "0.000000    526\n",
       "0.076975      3\n",
       "0.162462      2\n",
       "0.076841      2\n",
       "0.073562      2\n",
       "0.135708      2\n",
       "0.136286      2\n",
       "0.052150      2\n",
       "0.040912      2\n",
       "0.078759      2\n",
       "Name: Item_Visibility, dtype: int64"
      ]
     },
     "execution_count": 27,
     "metadata": {},
     "output_type": "execute_result"
    }
   ],
   "source": [
    "# check how mnay entries have zero\n",
    "bigmart['Item_Visibility'].value_counts().head(10)"
   ]
  },
  {
   "cell_type": "code",
   "execution_count": 36,
   "id": "2c15c221",
   "metadata": {},
   "outputs": [
    {
     "data": {
      "text/plain": [
       "0    0.016047\n",
       "1    0.019278\n",
       "2    0.016760\n",
       "3         NaN\n",
       "4         NaN\n",
       "Name: Item_Visibility, dtype: float64"
      ]
     },
     "execution_count": 36,
     "metadata": {},
     "output_type": "execute_result"
    }
   ],
   "source": [
    "# visual check that the 0 values in the firs 10 entries have been replaced\n",
    "bigmart['Item_Visibility'] = bigmart['Item_Visibility'].replace({0:np.nan})\n",
    "bigmart.Item_Visibility.head()"
   ]
  },
  {
   "cell_type": "code",
   "execution_count": 37,
   "id": "773f6d85",
   "metadata": {},
   "outputs": [],
   "source": [
    "# pivot table with the mean values that will be used to replace the nan values\n",
    "table = bigmart.pivot_table(values='Item_Visibility', index='Item_Type', columns='Outlet_Type', aggfunc='mean')\n",
    "table\n",
    "\n",
    "# replace the nan values\n",
    "# define function that returns the mean values\n",
    "def find_mean(x):\n",
    "    return table.loc[x['Item_Type'], x['Outlet_Type']]\n",
    "\n",
    "#replace missing values in loan_amount with median values\n",
    "bigmart['Item_Visibility'].fillna(bigmart[bigmart['Item_Visibility'].isnull()].apply(find_mean, axis=1), inplace=True)"
   ]
  },
  {
   "cell_type": "code",
   "execution_count": 38,
   "id": "7e833391",
   "metadata": {},
   "outputs": [
    {
     "data": {
      "text/plain": [
       "0    0.016047\n",
       "1    0.019278\n",
       "2    0.016760\n",
       "3    0.120401\n",
       "4    0.059544\n",
       "Name: Item_Visibility, dtype: float64"
      ]
     },
     "execution_count": 38,
     "metadata": {},
     "output_type": "execute_result"
    }
   ],
   "source": [
    "# verify\n",
    "bigmart.Item_Visibility.head()"
   ]
  },
  {
   "cell_type": "markdown",
   "id": "35f6efe2",
   "metadata": {},
   "source": [
    "### Combine Low Fat, low fat and LF to Low Fat and reg and Regular to Regular"
   ]
  },
  {
   "cell_type": "code",
   "execution_count": 29,
   "id": "8595af2e",
   "metadata": {},
   "outputs": [
    {
     "data": {
      "text/plain": [
       "array(['Low Fat', 'Regular'], dtype=object)"
      ]
     },
     "execution_count": 29,
     "metadata": {},
     "output_type": "execute_result"
    }
   ],
   "source": [
    "# replace the necessary values in the Item_Fat_Content column\n",
    "bigmart['Item_Fat_Content'] = bigmart['Item_Fat_Content'].replace({'LF': 'Low Fat', \n",
    "                                                             'low fat': 'Low Fat', \n",
    "                                                             'reg': 'Regular'})\n",
    "#verify\n",
    "bigmart['Item_Fat_Content'].unique()"
   ]
  },
  {
   "cell_type": "code",
   "execution_count": null,
   "id": "e3af7fb7",
   "metadata": {},
   "outputs": [],
   "source": []
  },
  {
   "cell_type": "code",
   "execution_count": null,
   "id": "ff484173",
   "metadata": {},
   "outputs": [],
   "source": []
  },
  {
   "cell_type": "markdown",
   "id": "2bcb4db2",
   "metadata": {},
   "source": [
    "## FEATURE ENGINEERING"
   ]
  },
  {
   "cell_type": "markdown",
   "id": "069eaed1",
   "metadata": {},
   "source": [
    "### 1. Convert the Outlet_Establishment_Years into how old the establishments are"
   ]
  },
  {
   "cell_type": "code",
   "execution_count": 30,
   "id": "2857840c",
   "metadata": {},
   "outputs": [
    {
     "data": {
      "text/html": [
       "<div>\n",
       "<style scoped>\n",
       "    .dataframe tbody tr th:only-of-type {\n",
       "        vertical-align: middle;\n",
       "    }\n",
       "\n",
       "    .dataframe tbody tr th {\n",
       "        vertical-align: top;\n",
       "    }\n",
       "\n",
       "    .dataframe thead th {\n",
       "        text-align: right;\n",
       "    }\n",
       "</style>\n",
       "<table border=\"1\" class=\"dataframe\">\n",
       "  <thead>\n",
       "    <tr style=\"text-align: right;\">\n",
       "      <th></th>\n",
       "      <th>Outlet_Establishment_Year</th>\n",
       "      <th>Outlet_Age</th>\n",
       "    </tr>\n",
       "  </thead>\n",
       "  <tbody>\n",
       "    <tr>\n",
       "      <th>0</th>\n",
       "      <td>1999</td>\n",
       "      <td>14</td>\n",
       "    </tr>\n",
       "    <tr>\n",
       "      <th>1</th>\n",
       "      <td>2009</td>\n",
       "      <td>4</td>\n",
       "    </tr>\n",
       "    <tr>\n",
       "      <th>2</th>\n",
       "      <td>1999</td>\n",
       "      <td>14</td>\n",
       "    </tr>\n",
       "    <tr>\n",
       "      <th>3</th>\n",
       "      <td>1998</td>\n",
       "      <td>15</td>\n",
       "    </tr>\n",
       "    <tr>\n",
       "      <th>4</th>\n",
       "      <td>1987</td>\n",
       "      <td>26</td>\n",
       "    </tr>\n",
       "  </tbody>\n",
       "</table>\n",
       "</div>"
      ],
      "text/plain": [
       "   Outlet_Establishment_Year  Outlet_Age\n",
       "0                       1999          14\n",
       "1                       2009           4\n",
       "2                       1999          14\n",
       "3                       1998          15\n",
       "4                       1987          26"
      ]
     },
     "execution_count": 30,
     "metadata": {},
     "output_type": "execute_result"
    }
   ],
   "source": [
    "# convert the establishment year to how old the estalishment is\n",
    "bigmart['Outlet_Age'] = 2013 - bigmart['Outlet_Establishment_Year']\n",
    "\n",
    "# verify\n",
    "bigmart[['Outlet_Establishment_Year', 'Outlet_Age']].head()"
   ]
  },
  {
   "cell_type": "markdown",
   "id": "7206953e",
   "metadata": {},
   "source": [
    "### 2. Divide Type of Item Column into more specific categories\n",
    "\n",
    "Looking at the `Item_Type` column, we can see a lot of categories which are hard to interprete and would not aid our analysis. There is need to create specific categories to make analysis better, \n",
    "\n",
    "\n",
    "Looking at the initials, These seem to stand for Food, Drink and Non-Consumable. So rename them to be more intuitive"
   ]
  },
  {
   "cell_type": "code",
   "execution_count": 31,
   "id": "e96610c1",
   "metadata": {},
   "outputs": [
    {
     "data": {
      "text/plain": [
       "array(['FDA', 'DRC', 'FDN', 'FDX', 'NCD', 'FDP', 'FDO', 'FDH', 'FDU',\n",
       "       'FDY', 'FDS', 'FDF', 'NCB', 'DRI', 'FDW', 'FDC', 'FDR', 'FDV',\n",
       "       'DRJ', 'FDE', 'NCS', 'DRH', 'NCX', 'DRZ', 'FDB', 'FDK', 'FDL',\n",
       "       'FDM', 'NCP', 'NCL', 'DRK', 'FDI', 'FDZ', 'NCI', 'FDJ', 'FDG',\n",
       "       'NCZ', 'FDQ', 'FDD', 'DRG', 'NCR', 'FDT', 'DRB', 'DRE', 'DRA',\n",
       "       'NCF', 'NCH', 'NCO', 'NCN', 'NCC', 'DRD', 'DRF', 'DRL', 'NCM',\n",
       "       'NCU', 'DRY', 'NCW', 'DRM', 'NCT', 'NCQ', 'DRP', 'DRQ', 'NCK',\n",
       "       'NCY', 'DRN', 'NCA', 'NCE', 'NCJ', 'NCV', 'NCG', 'DRO'],\n",
       "      dtype=object)"
      ]
     },
     "execution_count": 31,
     "metadata": {},
     "output_type": "execute_result"
    }
   ],
   "source": [
    "# create a new column by removing the last diigt on each item type and check out the \n",
    "# initial of the categories\n",
    "bigmart[\"Item_Type_Category\"] = bigmart['Item_Identifier'].astype(str).str[:3]\n",
    "\n",
    "# verify \n",
    "bigmart.Item_Type_Category.unique()"
   ]
  },
  {
   "cell_type": "code",
   "execution_count": 32,
   "id": "0691dbc8",
   "metadata": {},
   "outputs": [
    {
     "data": {
      "text/plain": [
       "array(['Food', 'Drink', 'Non-Consumable'], dtype=object)"
      ]
     },
     "execution_count": 32,
     "metadata": {},
     "output_type": "execute_result"
    }
   ],
   "source": [
    "# remove the last letter in the initial to create uniformity\n",
    "bigmart['Item_Type_Category'] = bigmart['Item_Type_Category'].astype(str).str[:2]\n",
    "\n",
    "# create a dictionary to map each lettered category to a suitable one\n",
    "map_cat = {'FD': 'Food', 'DR':'Drink', \n",
    "           'NC':'Non-Consumable'}\n",
    "\n",
    "# replace the category initial with the corresponding suitable \n",
    "# category\n",
    "bigmart['Item_Type_Category'] = bigmart['Item_Type_Category'].map(map_cat)\n",
    "\n",
    "# verify\n",
    "bigmart.Item_Type_Category.unique()"
   ]
  },
  {
   "cell_type": "markdown",
   "id": "2c8cd685",
   "metadata": {},
   "source": [
    "### 3. Change value of the 'Item_Fat_Content' of the items that are non-consumables.\n",
    "\n",
    "We can see that in the Item Type column, we had non-consumables but looking the item fat column, we can see the values there shows that all the item have fat content be it regular or low. Since some of the item are non-consumble, the items cannot have any fat. so we will replace these values in item fat column that matches the non-consumable in the item type column with `Non-edible`"
   ]
  },
  {
   "cell_type": "code",
   "execution_count": 33,
   "id": "3fc969f5",
   "metadata": {},
   "outputs": [
    {
     "data": {
      "text/plain": [
       "Low Fat       3918\n",
       "Regular       3006\n",
       "Non-Edible    1599\n",
       "Name: Item_Fat_Content, dtype: int64"
      ]
     },
     "execution_count": 33,
     "metadata": {},
     "output_type": "execute_result"
    }
   ],
   "source": [
    "bigmart.loc[bigmart['Item_Type_Category'] == 'Non-Consumable', 'Item_Fat_Content'] = 'Non-Edible'\n",
    "bigmart.Item_Fat_Content.value_counts()\n",
    "\n"
   ]
  },
  {
   "cell_type": "markdown",
   "id": "9f3b9e46",
   "metadata": {},
   "source": [
    "### 4. Create a column of price categories\n",
    "\n",
    "We will crate a column of price categories to reflect how high or how low the price is using the `Item_MRP` column\n",
    "\n",
    "Looking at the distribution below, it can be seen that it sort of approximately fits a normal distributionand The Item_MRP clearly shows there are 4 different price categories. So we define them to be 'Low', 'Medium', 'High', 'Very High'."
   ]
  },
  {
   "cell_type": "code",
   "execution_count": 34,
   "id": "6af98c72",
   "metadata": {},
   "outputs": [
    {
     "data": {
      "image/png": "[encoded data removed]",
      "text/plain": [
       "<Figure size 2000x1200 with 1 Axes>"
      ]
     },
     "metadata": {},
     "output_type": "display_data"
    }
   ],
   "source": [
    "# lets look at the distribution of Item_MRP\n",
    "plt.figure(figsize=(20, 12))\n",
    "ax = sns.distplot(bigmart['Item_MRP'])\n",
    "plt.xlabel(\"Item Minimum Retail Price\", size = 20)\n",
    "plt.xlabel\n",
    "plt.xticks(size = 14)\n",
    "plt.yticks(size = 14)\n",
    "\n",
    "# let define some data points\n",
    "x1 = 70\n",
    "x2 = 131\n",
    "x3 = 201\n",
    "ax.plot([x1, x1],[0, 0.007], color='r')\n",
    "ax.plot([x2, x2],[0, 0.007],color='r')\n",
    "ax.plot([x3, x3],[0, 0.007],color='r')\n",
    "\n",
    "plt.show()"
   ]
  },
  {
   "cell_type": "code",
   "execution_count": 35,
   "id": "9afff913",
   "metadata": {},
   "outputs": [],
   "source": [
    "#bins = np.linspace(-np.inf, np.inf, 5)\n",
    "\n",
    "# set the actegory names\n",
    "group_names = [\"Low\", \"Medium\", \"High\", 'Very High']\n",
    "bigmart[\"Item_MRP_Category\"] = pd.cut(bigmart[\"Item_MRP\"], bins = [-np.inf, 70, 131, 201, np.inf], labels=group_names)"
   ]
  },
  {
   "cell_type": "code",
   "execution_count": 36,
   "id": "1128a8d7",
   "metadata": {},
   "outputs": [
    {
     "data": {
      "text/plain": [
       "['Very High', 'Low', 'High', 'Medium']\n",
       "Categories (4, object): ['Low' < 'Medium' < 'High' < 'Very High']"
      ]
     },
     "execution_count": 36,
     "metadata": {},
     "output_type": "execute_result"
    }
   ],
   "source": [
    "# verify \n",
    "bigmart.Item_MRP_Category.unique()"
   ]
  },
  {
   "cell_type": "code",
   "execution_count": 37,
   "id": "5438ec0f",
   "metadata": {},
   "outputs": [],
   "source": [
    "#bigmart.head()"
   ]
  },
  {
   "cell_type": "markdown",
   "id": "2c76ce6f",
   "metadata": {},
   "source": [
    "### 5. Drop the Remaining Null values in Item_Weight\n",
    "Lets fdrop the remaining missing values in the `Item_Weight` column  "
   ]
  },
  {
   "cell_type": "code",
   "execution_count": 41,
   "id": "55508052",
   "metadata": {},
   "outputs": [
    {
     "data": {
      "text/plain": [
       "Item_Identifier              0\n",
       "Item_Weight                  0\n",
       "Item_Fat_Content             0\n",
       "Item_Visibility              0\n",
       "Item_Type                    0\n",
       "Item_MRP                     0\n",
       "Outlet_Identifier            0\n",
       "Outlet_Establishment_Year    0\n",
       "Outlet_Size                  0\n",
       "Outlet_Location_Type         0\n",
       "Outlet_Type                  0\n",
       "Item_Outlet_Sales            0\n",
       "Outlet_Age                   0\n",
       "Item_Type_Category           0\n",
       "Item_MRP_Category            0\n",
       "dtype: int64"
      ]
     },
     "execution_count": 41,
     "metadata": {},
     "output_type": "execute_result"
    }
   ],
   "source": [
    "# drop the null values remaining \n",
    "bigmart.dropna(axis = 0, inplace=True)\n",
    "# verify\n",
    "bigmart.isnull().sum()"
   ]
  },
  {
   "cell_type": "markdown",
   "id": "88f46abd",
   "metadata": {},
   "source": [
    "### 6. Rename the Item_Visibility column as Item_Visibility (%)"
   ]
  },
  {
   "cell_type": "code",
   "execution_count": 47,
   "id": "9c82c88c",
   "metadata": {},
   "outputs": [
    {
     "data": {
      "text/plain": [
       "'Item_Visibility (%)'"
      ]
     },
     "execution_count": 47,
     "metadata": {},
     "output_type": "execute_result"
    }
   ],
   "source": [
    "# rename the Item_Visibility Colimn\n",
    "bigmart.rename(columns={'Item_Visibility':'Item_Visibility (%)'}, inplace=True)\n",
    "\n",
    "# verify \n",
    "bigmart.columns[3]"
   ]
  },
  {
   "cell_type": "code",
   "execution_count": null,
   "id": "2e17bca9",
   "metadata": {},
   "outputs": [],
   "source": []
  },
  {
   "cell_type": "code",
   "execution_count": null,
   "id": "ae057a7e",
   "metadata": {},
   "outputs": [],
   "source": []
  },
  {
   "cell_type": "markdown",
   "id": "b996d81c",
   "metadata": {},
   "source": [
    "### 7. Convert the Item_Visibility column values to percentage instead of decimal\n"
   ]
  },
  {
   "cell_type": "code",
   "execution_count": null,
   "id": "32efcee3",
   "metadata": {},
   "outputs": [],
   "source": [
    "# convert the item visibilty values to percent by multiplying each\n",
    "# value by 100 and round up\n",
    "bigmart['Item_Visibility (%)'] = bigmart['Item_Visibility (%)'].mul(100).round()\n",
    "\n",
    "# verify\n",
    "bigmart['Item_Visibility (%)'].he\n"
   ]
  },
  {
   "cell_type": "markdown",
   "id": "72b97b20",
   "metadata": {},
   "source": [
    "### 6. Save The Cleaned Data set"
   ]
  },
  {
   "cell_type": "code",
   "execution_count": 43,
   "id": "e9a02b9a",
   "metadata": {},
   "outputs": [],
   "source": [
    "# save the cleaned dataset\n",
    "bigmart.to_csv('bigmart_cleaned.csv', index = False)"
   ]
  },
  {
   "cell_type": "code",
   "execution_count": null,
   "id": "98261828",
   "metadata": {},
   "outputs": [],
   "source": []
  }
 ],
 "metadata": {
  "kernelspec": {
   "display_name": "Python 3 (ipykernel)",
   "language": "python",
   "name": "python3"
  },
  "language_info": {
   "codemirror_mode": {
    "name": "ipython",
    "version": 3
   },
   "file_extension": ".py",
   "mimetype": "text/x-python",
   "name": "python",
   "nbconvert_exporter": "python",
   "pygments_lexer": "ipython3",
   "version": "3.10.9"
  }
 },
 "nbformat": 4,
 "nbformat_minor": 5
}
